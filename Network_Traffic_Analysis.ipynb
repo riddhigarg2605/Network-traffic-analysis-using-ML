{
  "nbformat": 4,
  "nbformat_minor": 0,
  "metadata": {
    "colab": {
      "name": "Network Traffic Analysis.ipynb",
      "provenance": [],
      "collapsed_sections": [],
      "include_colab_link": true
    },
    "kernelspec": {
      "name": "python3",
      "display_name": "Python 3"
    },
    "language_info": {
      "name": "python"
    }
  },
  "cells": [
    {
      "cell_type": "markdown",
      "metadata": {
        "id": "view-in-github",
        "colab_type": "text"
      },
      "source": [
        "<a href=\"https://colab.research.google.com/github/riddhigarg2605/Network-traffic-analysis-using-ML/blob/main/Network_Traffic_Analysis.ipynb\" target=\"_parent\"><img src=\"https://colab.research.google.com/assets/colab-badge.svg\" alt=\"Open In Colab\"/></a>"
      ]
    },
    {
      "cell_type": "code",
      "metadata": {
        "id": "OmkbX01TK3vt"
      },
      "source": [
        "import pandas as pd\n",
        "from matplotlib import pyplot as plt\n",
        "%matplotlib inline\n",
        "import numpy as np\n",
        "from scipy.stats import pearsonr\n",
        "import seaborn as sns \n",
        "from numpy import percentile\n",
        "import math"
      ],
      "execution_count": null,
      "outputs": []
    },
    {
      "cell_type": "code",
      "metadata": {
        "colab": {
          "base_uri": "https://localhost:8080/",
          "height": 204
        },
        "id": "cbgMtGt_LNEo",
        "outputId": "67d9d8b3-cdff-48a5-e0d5-23da81f4d505"
      },
      "source": [
        "url = 'https://raw.githubusercontent.com/riddhigarg2605/Network-traffic-analysis-using-ML/main/cs448b_ipasn.csv'\n",
        "nw = pd.read_csv(url)\n",
        "nw.head()"
      ],
      "execution_count": null,
      "outputs": [
        {
          "output_type": "execute_result",
          "data": {
            "text/html": [
              "<div>\n",
              "<style scoped>\n",
              "    .dataframe tbody tr th:only-of-type {\n",
              "        vertical-align: middle;\n",
              "    }\n",
              "\n",
              "    .dataframe tbody tr th {\n",
              "        vertical-align: top;\n",
              "    }\n",
              "\n",
              "    .dataframe thead th {\n",
              "        text-align: right;\n",
              "    }\n",
              "</style>\n",
              "<table border=\"1\" class=\"dataframe\">\n",
              "  <thead>\n",
              "    <tr style=\"text-align: right;\">\n",
              "      <th></th>\n",
              "      <th>date</th>\n",
              "      <th>l_ipn</th>\n",
              "      <th>r_asn</th>\n",
              "      <th>f</th>\n",
              "    </tr>\n",
              "  </thead>\n",
              "  <tbody>\n",
              "    <tr>\n",
              "      <th>0</th>\n",
              "      <td>2006-07-01</td>\n",
              "      <td>0</td>\n",
              "      <td>701</td>\n",
              "      <td>1</td>\n",
              "    </tr>\n",
              "    <tr>\n",
              "      <th>1</th>\n",
              "      <td>2006-07-01</td>\n",
              "      <td>0</td>\n",
              "      <td>714</td>\n",
              "      <td>1</td>\n",
              "    </tr>\n",
              "    <tr>\n",
              "      <th>2</th>\n",
              "      <td>2006-07-01</td>\n",
              "      <td>0</td>\n",
              "      <td>1239</td>\n",
              "      <td>1</td>\n",
              "    </tr>\n",
              "    <tr>\n",
              "      <th>3</th>\n",
              "      <td>2006-07-01</td>\n",
              "      <td>0</td>\n",
              "      <td>1680</td>\n",
              "      <td>1</td>\n",
              "    </tr>\n",
              "    <tr>\n",
              "      <th>4</th>\n",
              "      <td>2006-07-01</td>\n",
              "      <td>0</td>\n",
              "      <td>2514</td>\n",
              "      <td>1</td>\n",
              "    </tr>\n",
              "  </tbody>\n",
              "</table>\n",
              "</div>"
            ],
            "text/plain": [
              "         date  l_ipn  r_asn  f\n",
              "0  2006-07-01      0    701  1\n",
              "1  2006-07-01      0    714  1\n",
              "2  2006-07-01      0   1239  1\n",
              "3  2006-07-01      0   1680  1\n",
              "4  2006-07-01      0   2514  1"
            ]
          },
          "metadata": {
            "tags": []
          },
          "execution_count": 15
        }
      ]
    },
    {
      "cell_type": "code",
      "metadata": {
        "colab": {
          "base_uri": "https://localhost:8080/",
          "height": 204
        },
        "id": "uN3cW5h-MexD",
        "outputId": "3ddd405f-ace6-4f48-8206-40f9ca35d2a7"
      },
      "source": [
        "nw.tail()"
      ],
      "execution_count": null,
      "outputs": [
        {
          "output_type": "execute_result",
          "data": {
            "text/html": [
              "<div>\n",
              "<style scoped>\n",
              "    .dataframe tbody tr th:only-of-type {\n",
              "        vertical-align: middle;\n",
              "    }\n",
              "\n",
              "    .dataframe tbody tr th {\n",
              "        vertical-align: top;\n",
              "    }\n",
              "\n",
              "    .dataframe thead th {\n",
              "        text-align: right;\n",
              "    }\n",
              "</style>\n",
              "<table border=\"1\" class=\"dataframe\">\n",
              "  <thead>\n",
              "    <tr style=\"text-align: right;\">\n",
              "      <th></th>\n",
              "      <th>date</th>\n",
              "      <th>l_ipn</th>\n",
              "      <th>r_asn</th>\n",
              "      <th>f</th>\n",
              "    </tr>\n",
              "  </thead>\n",
              "  <tbody>\n",
              "    <tr>\n",
              "      <th>20798</th>\n",
              "      <td>2006-09-30</td>\n",
              "      <td>8</td>\n",
              "      <td>36351</td>\n",
              "      <td>3</td>\n",
              "    </tr>\n",
              "    <tr>\n",
              "      <th>20799</th>\n",
              "      <td>2006-09-30</td>\n",
              "      <td>8</td>\n",
              "      <td>36856</td>\n",
              "      <td>4</td>\n",
              "    </tr>\n",
              "    <tr>\n",
              "      <th>20800</th>\n",
              "      <td>2006-09-30</td>\n",
              "      <td>9</td>\n",
              "      <td>2152</td>\n",
              "      <td>1</td>\n",
              "    </tr>\n",
              "    <tr>\n",
              "      <th>20801</th>\n",
              "      <td>2006-09-30</td>\n",
              "      <td>9</td>\n",
              "      <td>8070</td>\n",
              "      <td>1</td>\n",
              "    </tr>\n",
              "    <tr>\n",
              "      <th>20802</th>\n",
              "      <td>2006-09-30</td>\n",
              "      <td>9</td>\n",
              "      <td>8075</td>\n",
              "      <td>2</td>\n",
              "    </tr>\n",
              "  </tbody>\n",
              "</table>\n",
              "</div>"
            ],
            "text/plain": [
              "             date  l_ipn  r_asn  f\n",
              "20798  2006-09-30      8  36351  3\n",
              "20799  2006-09-30      8  36856  4\n",
              "20800  2006-09-30      9   2152  1\n",
              "20801  2006-09-30      9   8070  1\n",
              "20802  2006-09-30      9   8075  2"
            ]
          },
          "metadata": {
            "tags": []
          },
          "execution_count": 16
        }
      ]
    },
    {
      "cell_type": "code",
      "metadata": {
        "colab": {
          "base_uri": "https://localhost:8080/",
          "height": 297
        },
        "id": "IDsHBp7_M3Mr",
        "outputId": "0c24bbeb-662f-46ca-c743-2abe84b34b8d"
      },
      "source": [
        "nw.describe()"
      ],
      "execution_count": null,
      "outputs": [
        {
          "output_type": "execute_result",
          "data": {
            "text/html": [
              "<div>\n",
              "<style scoped>\n",
              "    .dataframe tbody tr th:only-of-type {\n",
              "        vertical-align: middle;\n",
              "    }\n",
              "\n",
              "    .dataframe tbody tr th {\n",
              "        vertical-align: top;\n",
              "    }\n",
              "\n",
              "    .dataframe thead th {\n",
              "        text-align: right;\n",
              "    }\n",
              "</style>\n",
              "<table border=\"1\" class=\"dataframe\">\n",
              "  <thead>\n",
              "    <tr style=\"text-align: right;\">\n",
              "      <th></th>\n",
              "      <th>l_ipn</th>\n",
              "      <th>r_asn</th>\n",
              "      <th>f</th>\n",
              "    </tr>\n",
              "  </thead>\n",
              "  <tbody>\n",
              "    <tr>\n",
              "      <th>count</th>\n",
              "      <td>20803.000000</td>\n",
              "      <td>20803.000000</td>\n",
              "      <td>20803.000000</td>\n",
              "    </tr>\n",
              "    <tr>\n",
              "      <th>mean</th>\n",
              "      <td>4.228236</td>\n",
              "      <td>12138.320338</td>\n",
              "      <td>93.914243</td>\n",
              "    </tr>\n",
              "    <tr>\n",
              "      <th>std</th>\n",
              "      <td>3.278183</td>\n",
              "      <td>9766.324252</td>\n",
              "      <td>5764.995269</td>\n",
              "    </tr>\n",
              "    <tr>\n",
              "      <th>min</th>\n",
              "      <td>0.000000</td>\n",
              "      <td>3.000000</td>\n",
              "      <td>1.000000</td>\n",
              "    </tr>\n",
              "    <tr>\n",
              "      <th>25%</th>\n",
              "      <td>1.000000</td>\n",
              "      <td>4323.000000</td>\n",
              "      <td>1.000000</td>\n",
              "    </tr>\n",
              "    <tr>\n",
              "      <th>50%</th>\n",
              "      <td>4.000000</td>\n",
              "      <td>8764.000000</td>\n",
              "      <td>2.000000</td>\n",
              "    </tr>\n",
              "    <tr>\n",
              "      <th>75%</th>\n",
              "      <td>7.000000</td>\n",
              "      <td>17676.000000</td>\n",
              "      <td>8.000000</td>\n",
              "    </tr>\n",
              "    <tr>\n",
              "      <th>max</th>\n",
              "      <td>9.000000</td>\n",
              "      <td>40092.000000</td>\n",
              "      <td>784234.000000</td>\n",
              "    </tr>\n",
              "  </tbody>\n",
              "</table>\n",
              "</div>"
            ],
            "text/plain": [
              "              l_ipn         r_asn              f\n",
              "count  20803.000000  20803.000000   20803.000000\n",
              "mean       4.228236  12138.320338      93.914243\n",
              "std        3.278183   9766.324252    5764.995269\n",
              "min        0.000000      3.000000       1.000000\n",
              "25%        1.000000   4323.000000       1.000000\n",
              "50%        4.000000   8764.000000       2.000000\n",
              "75%        7.000000  17676.000000       8.000000\n",
              "max        9.000000  40092.000000  784234.000000"
            ]
          },
          "metadata": {
            "tags": []
          },
          "execution_count": 17
        }
      ]
    },
    {
      "cell_type": "code",
      "metadata": {
        "colab": {
          "base_uri": "https://localhost:8080/"
        },
        "id": "domkH3ZEZMj1",
        "outputId": "18baf632-8411-4552-9e42-91e446881e87"
      },
      "source": [
        "quartiles = percentile(nw.f, [25, 50, 75])\n",
        "print(quartiles)"
      ],
      "execution_count": null,
      "outputs": [
        {
          "output_type": "stream",
          "text": [
            "[1. 2. 8.]\n"
          ],
          "name": "stdout"
        }
      ]
    },
    {
      "cell_type": "code",
      "metadata": {
        "colab": {
          "base_uri": "https://localhost:8080/",
          "height": 279
        },
        "id": "bGpn99rjPJCO",
        "outputId": "b2f652b6-1370-4747-bad8-50f1f4d78ef6"
      },
      "source": [
        "plt.grid(True)\n",
        "sns.histplot(nw.f, bins = 25, kde = True)\n",
        "plt.show()"
      ],
      "execution_count": null,
      "outputs": [
        {
          "output_type": "display_data",
          "data": {
            "image/png": "[encoded data removed]",
            "text/plain": [
              "<Figure size 432x288 with 1 Axes>"
            ]
          },
          "metadata": {
            "tags": [],
            "needs_background": "light"
          }
        }
      ]
    },
    {
      "cell_type": "code",
      "metadata": {
        "colab": {
          "base_uri": "https://localhost:8080/"
        },
        "id": "n6ibHLC1NFUm",
        "outputId": "b560372a-efeb-47c4-f98b-8640843a4e02"
      },
      "source": [
        "nw.nunique()"
      ],
      "execution_count": null,
      "outputs": [
        {
          "output_type": "execute_result",
          "data": {
            "text/plain": [
              "date       92\n",
              "l_ipn      10\n",
              "r_asn    2005\n",
              "f         707\n",
              "dtype: int64"
            ]
          },
          "metadata": {
            "tags": []
          },
          "execution_count": 20
        }
      ]
    },
    {
      "cell_type": "code",
      "metadata": {
        "id": "UICmqcssNiR8"
      },
      "source": [
        "#plt.scatter(network.date, network.l_ipn)"
      ],
      "execution_count": null,
      "outputs": []
    },
    {
      "cell_type": "code",
      "metadata": {
        "colab": {
          "base_uri": "https://localhost:8080/"
        },
        "id": "8I_HkNfAN1Ju",
        "outputId": "b5b7f0de-84af-43ab-853b-d766bf5ef497"
      },
      "source": [
        "nw.isnull().sum()"
      ],
      "execution_count": null,
      "outputs": [
        {
          "output_type": "execute_result",
          "data": {
            "text/plain": [
              "date     0\n",
              "l_ipn    0\n",
              "r_asn    0\n",
              "f        0\n",
              "dtype: int64"
            ]
          },
          "metadata": {
            "tags": []
          },
          "execution_count": 22
        }
      ]
    },
    {
      "cell_type": "code",
      "metadata": {
        "colab": {
          "base_uri": "https://localhost:8080/"
        },
        "id": "1jyQ7UKDOeDT",
        "outputId": "0bdc6c71-83cc-433a-980e-10a979375ab9"
      },
      "source": [
        "nw_5k = nw[nw['r_asn'] < 5000]\n",
        "nw_5k.head"
      ],
      "execution_count": null,
      "outputs": [
        {
          "output_type": "execute_result",
          "data": {
            "text/plain": [
              "<bound method NDFrame.head of              date  l_ipn  r_asn    f\n",
              "0      2006-07-01      0    701    1\n",
              "1      2006-07-01      0    714    1\n",
              "2      2006-07-01      0   1239    1\n",
              "3      2006-07-01      0   1680    1\n",
              "4      2006-07-01      0   2514    1\n",
              "...           ...    ...    ...  ...\n",
              "20741  2006-09-30      8   4513   22\n",
              "20742  2006-09-30      8   4565    1\n",
              "20743  2006-09-30      8   4713  363\n",
              "20744  2006-09-30      8   4766    1\n",
              "20800  2006-09-30      9   2152    1\n",
              "\n",
              "[6329 rows x 4 columns]>"
            ]
          },
          "metadata": {
            "tags": []
          },
          "execution_count": 23
        }
      ]
    },
    {
      "cell_type": "code",
      "metadata": {
        "colab": {
          "base_uri": "https://localhost:8080/",
          "height": 297
        },
        "id": "XoMadg2KbUw0",
        "outputId": "61bd61ae-7754-4ec7-c04f-0975b5252dd5"
      },
      "source": [
        "#mean and std deviation\n",
        "nw_5k.describe()"
      ],
      "execution_count": null,
      "outputs": [
        {
          "output_type": "execute_result",
          "data": {
            "text/html": [
              "<div>\n",
              "<style scoped>\n",
              "    .dataframe tbody tr th:only-of-type {\n",
              "        vertical-align: middle;\n",
              "    }\n",
              "\n",
              "    .dataframe tbody tr th {\n",
              "        vertical-align: top;\n",
              "    }\n",
              "\n",
              "    .dataframe thead th {\n",
              "        text-align: right;\n",
              "    }\n",
              "</style>\n",
              "<table border=\"1\" class=\"dataframe\">\n",
              "  <thead>\n",
              "    <tr style=\"text-align: right;\">\n",
              "      <th></th>\n",
              "      <th>l_ipn</th>\n",
              "      <th>r_asn</th>\n",
              "      <th>f</th>\n",
              "    </tr>\n",
              "  </thead>\n",
              "  <tbody>\n",
              "    <tr>\n",
              "      <th>count</th>\n",
              "      <td>6329.000000</td>\n",
              "      <td>6329.000000</td>\n",
              "      <td>6329.000000</td>\n",
              "    </tr>\n",
              "    <tr>\n",
              "      <th>mean</th>\n",
              "      <td>4.159583</td>\n",
              "      <td>2864.054353</td>\n",
              "      <td>214.966661</td>\n",
              "    </tr>\n",
              "    <tr>\n",
              "      <th>std</th>\n",
              "      <td>3.156846</td>\n",
              "      <td>1578.886206</td>\n",
              "      <td>10444.949946</td>\n",
              "    </tr>\n",
              "    <tr>\n",
              "      <th>min</th>\n",
              "      <td>0.000000</td>\n",
              "      <td>3.000000</td>\n",
              "      <td>1.000000</td>\n",
              "    </tr>\n",
              "    <tr>\n",
              "      <th>25%</th>\n",
              "      <td>1.000000</td>\n",
              "      <td>1668.000000</td>\n",
              "      <td>1.000000</td>\n",
              "    </tr>\n",
              "    <tr>\n",
              "      <th>50%</th>\n",
              "      <td>4.000000</td>\n",
              "      <td>3356.000000</td>\n",
              "      <td>2.000000</td>\n",
              "    </tr>\n",
              "    <tr>\n",
              "      <th>75%</th>\n",
              "      <td>7.000000</td>\n",
              "      <td>4134.000000</td>\n",
              "      <td>8.000000</td>\n",
              "    </tr>\n",
              "    <tr>\n",
              "      <th>max</th>\n",
              "      <td>9.000000</td>\n",
              "      <td>4996.000000</td>\n",
              "      <td>784234.000000</td>\n",
              "    </tr>\n",
              "  </tbody>\n",
              "</table>\n",
              "</div>"
            ],
            "text/plain": [
              "             l_ipn        r_asn              f\n",
              "count  6329.000000  6329.000000    6329.000000\n",
              "mean      4.159583  2864.054353     214.966661\n",
              "std       3.156846  1578.886206   10444.949946\n",
              "min       0.000000     3.000000       1.000000\n",
              "25%       1.000000  1668.000000       1.000000\n",
              "50%       4.000000  3356.000000       2.000000\n",
              "75%       7.000000  4134.000000       8.000000\n",
              "max       9.000000  4996.000000  784234.000000"
            ]
          },
          "metadata": {
            "tags": []
          },
          "execution_count": 24
        }
      ]
    },
    {
      "cell_type": "code",
      "metadata": {
        "colab": {
          "base_uri": "https://localhost:8080/"
        },
        "id": "t5WnjQgUc8-z",
        "outputId": "8559348f-18c7-4743-91b9-7e4ab03b53c5"
      },
      "source": [
        "category = []\n",
        "\n",
        "for row in nw_5k['f']:\n",
        "   if row < 8 : category.append('0')\n",
        "   else:  category.append('1')\n",
        "\n",
        "nw_5k['category'] = category\n",
        "\n",
        "#nw_5k.loc[(nw_5k.f == '')] "
      ],
      "execution_count": null,
      "outputs": [
        {
          "output_type": "stream",
          "text": [
            "/usr/local/lib/python3.7/dist-packages/ipykernel_launcher.py:7: SettingWithCopyWarning: \n",
            "A value is trying to be set on a copy of a slice from a DataFrame.\n",
            "Try using .loc[row_indexer,col_indexer] = value instead\n",
            "\n",
            "See the caveats in the documentation: https://pandas.pydata.org/pandas-docs/stable/user_guide/indexing.html#returning-a-view-versus-a-copy\n",
            "  import sys\n"
          ],
          "name": "stderr"
        }
      ]
    },
    {
      "cell_type": "code",
      "metadata": {
        "colab": {
          "base_uri": "https://localhost:8080/"
        },
        "id": "6kgvtUrDecoZ",
        "outputId": "c243e280-e199-4c98-e43b-1b84ab642085"
      },
      "source": [
        "nw_5k.head"
      ],
      "execution_count": null,
      "outputs": [
        {
          "output_type": "execute_result",
          "data": {
            "text/plain": [
              "<bound method NDFrame.head of              date  l_ipn  r_asn    f category\n",
              "0      2006-07-01      0    701    1        0\n",
              "1      2006-07-01      0    714    1        0\n",
              "2      2006-07-01      0   1239    1        0\n",
              "3      2006-07-01      0   1680    1        0\n",
              "4      2006-07-01      0   2514    1        0\n",
              "...           ...    ...    ...  ...      ...\n",
              "20741  2006-09-30      8   4513   22        1\n",
              "20742  2006-09-30      8   4565    1        0\n",
              "20743  2006-09-30      8   4713  363        1\n",
              "20744  2006-09-30      8   4766    1        0\n",
              "20800  2006-09-30      9   2152    1        0\n",
              "\n",
              "[6329 rows x 5 columns]>"
            ]
          },
          "metadata": {
            "tags": []
          },
          "execution_count": 27
        }
      ]
    },
    {
      "cell_type": "code",
      "metadata": {
        "colab": {
          "base_uri": "https://localhost:8080/"
        },
        "id": "UaZHLaU7avRM",
        "outputId": "e334d7cd-1461-44a3-8058-3f65f7d45617"
      },
      "source": [
        "nw_10k = nw[(nw['r_asn'] > 5000) & (nw['r_asn'] < 10000)]\n",
        "nw_10k.head"
      ],
      "execution_count": null,
      "outputs": [
        {
          "output_type": "execute_result",
          "data": {
            "text/plain": [
              "<bound method NDFrame.head of              date  l_ipn  r_asn   f\n",
              "8      2006-07-01      0   5617   2\n",
              "9      2006-07-01      0   6478   1\n",
              "10     2006-07-01      0   6713   1\n",
              "11     2006-07-01      0   7132   1\n",
              "12     2006-07-01      0   9105   1\n",
              "...           ...    ...    ...  ..\n",
              "20756  2006-09-30      8   8075   2\n",
              "20757  2006-09-30      8   8151  46\n",
              "20758  2006-09-30      8   8220  22\n",
              "20801  2006-09-30      9   8070   1\n",
              "20802  2006-09-30      9   8075   2\n",
              "\n",
              "[5134 rows x 4 columns]>"
            ]
          },
          "metadata": {
            "tags": []
          },
          "execution_count": 28
        }
      ]
    },
    {
      "cell_type": "code",
      "metadata": {
        "colab": {
          "base_uri": "https://localhost:8080/",
          "height": 297
        },
        "id": "WfeklRk3bfAC",
        "outputId": "350dd883-2737-46fa-9501-c3b704d1dd6a"
      },
      "source": [
        "nw_10k.describe()"
      ],
      "execution_count": null,
      "outputs": [
        {
          "output_type": "execute_result",
          "data": {
            "text/html": [
              "<div>\n",
              "<style scoped>\n",
              "    .dataframe tbody tr th:only-of-type {\n",
              "        vertical-align: middle;\n",
              "    }\n",
              "\n",
              "    .dataframe tbody tr th {\n",
              "        vertical-align: top;\n",
              "    }\n",
              "\n",
              "    .dataframe thead th {\n",
              "        text-align: right;\n",
              "    }\n",
              "</style>\n",
              "<table border=\"1\" class=\"dataframe\">\n",
              "  <thead>\n",
              "    <tr style=\"text-align: right;\">\n",
              "      <th></th>\n",
              "      <th>l_ipn</th>\n",
              "      <th>r_asn</th>\n",
              "      <th>f</th>\n",
              "    </tr>\n",
              "  </thead>\n",
              "  <tbody>\n",
              "    <tr>\n",
              "      <th>count</th>\n",
              "      <td>5134.000000</td>\n",
              "      <td>5134.000000</td>\n",
              "      <td>5134.000000</td>\n",
              "    </tr>\n",
              "    <tr>\n",
              "      <th>mean</th>\n",
              "      <td>3.916050</td>\n",
              "      <td>7586.935138</td>\n",
              "      <td>36.638878</td>\n",
              "    </tr>\n",
              "    <tr>\n",
              "      <th>std</th>\n",
              "      <td>3.255974</td>\n",
              "      <td>1257.706031</td>\n",
              "      <td>229.985078</td>\n",
              "    </tr>\n",
              "    <tr>\n",
              "      <th>min</th>\n",
              "      <td>0.000000</td>\n",
              "      <td>5006.000000</td>\n",
              "      <td>1.000000</td>\n",
              "    </tr>\n",
              "    <tr>\n",
              "      <th>25%</th>\n",
              "      <td>1.000000</td>\n",
              "      <td>6478.000000</td>\n",
              "      <td>1.000000</td>\n",
              "    </tr>\n",
              "    <tr>\n",
              "      <th>50%</th>\n",
              "      <td>3.000000</td>\n",
              "      <td>7377.000000</td>\n",
              "      <td>2.000000</td>\n",
              "    </tr>\n",
              "    <tr>\n",
              "      <th>75%</th>\n",
              "      <td>7.000000</td>\n",
              "      <td>8402.000000</td>\n",
              "      <td>6.000000</td>\n",
              "    </tr>\n",
              "    <tr>\n",
              "      <th>max</th>\n",
              "      <td>9.000000</td>\n",
              "      <td>9976.000000</td>\n",
              "      <td>5214.000000</td>\n",
              "    </tr>\n",
              "  </tbody>\n",
              "</table>\n",
              "</div>"
            ],
            "text/plain": [
              "             l_ipn        r_asn            f\n",
              "count  5134.000000  5134.000000  5134.000000\n",
              "mean      3.916050  7586.935138    36.638878\n",
              "std       3.255974  1257.706031   229.985078\n",
              "min       0.000000  5006.000000     1.000000\n",
              "25%       1.000000  6478.000000     1.000000\n",
              "50%       3.000000  7377.000000     2.000000\n",
              "75%       7.000000  8402.000000     6.000000\n",
              "max       9.000000  9976.000000  5214.000000"
            ]
          },
          "metadata": {
            "tags": []
          },
          "execution_count": 29
        }
      ]
    },
    {
      "cell_type": "code",
      "metadata": {
        "colab": {
          "base_uri": "https://localhost:8080/"
        },
        "id": "dwE24dpdfzy6",
        "outputId": "bd311e95-9a5a-45f8-bf9a-3fda1d50cbfc"
      },
      "source": [
        "category = []\n",
        "\n",
        "for row in nw_10k['f']:\n",
        "   if row < 6 : category.append('0')\n",
        "   else:  category.append('1')\n",
        "\n",
        "nw_10k['category'] = category\n",
        "nw_10k.head"
      ],
      "execution_count": null,
      "outputs": [
        {
          "output_type": "stream",
          "text": [
            "/usr/local/lib/python3.7/dist-packages/ipykernel_launcher.py:7: SettingWithCopyWarning: \n",
            "A value is trying to be set on a copy of a slice from a DataFrame.\n",
            "Try using .loc[row_indexer,col_indexer] = value instead\n",
            "\n",
            "See the caveats in the documentation: https://pandas.pydata.org/pandas-docs/stable/user_guide/indexing.html#returning-a-view-versus-a-copy\n",
            "  import sys\n"
          ],
          "name": "stderr"
        },
        {
          "output_type": "execute_result",
          "data": {
            "text/plain": [
              "<bound method NDFrame.head of              date  l_ipn  r_asn   f category\n",
              "8      2006-07-01      0   5617   2        0\n",
              "9      2006-07-01      0   6478   1        0\n",
              "10     2006-07-01      0   6713   1        0\n",
              "11     2006-07-01      0   7132   1        0\n",
              "12     2006-07-01      0   9105   1        0\n",
              "...           ...    ...    ...  ..      ...\n",
              "20756  2006-09-30      8   8075   2        0\n",
              "20757  2006-09-30      8   8151  46        1\n",
              "20758  2006-09-30      8   8220  22        1\n",
              "20801  2006-09-30      9   8070   1        0\n",
              "20802  2006-09-30      9   8075   2        0\n",
              "\n",
              "[5134 rows x 5 columns]>"
            ]
          },
          "metadata": {
            "tags": []
          },
          "execution_count": 30
        }
      ]
    },
    {
      "cell_type": "code",
      "metadata": {
        "id": "o9OC9SMUUqhu"
      },
      "source": [
        "# new['category'] = [i*0 if i > 1000 else i == 1 for i in new.f]"
      ],
      "execution_count": null,
      "outputs": []
    },
    {
      "cell_type": "code",
      "metadata": {
        "id": "rUeOvLsAXTk9"
      },
      "source": [
        "#new.loc[new.f > 5000, 'category'] = '0'\n",
        "#new.loc[new.f < 5000, 'category'] = '1'\n"
      ],
      "execution_count": null,
      "outputs": []
    },
    {
      "cell_type": "code",
      "metadata": {
        "colab": {
          "base_uri": "https://localhost:8080/",
          "height": 297
        },
        "id": "N52EsfFPbjk6",
        "outputId": "fb4b90d9-97b1-4fb9-e6e7-9d8295262748"
      },
      "source": [
        "nw_20k = nw[(nw['r_asn'] > 10000) & (nw['r_asn'] < 20000)]\n",
        "nw_20k.head\n",
        "nw_20k.describe()"
      ],
      "execution_count": null,
      "outputs": [
        {
          "output_type": "execute_result",
          "data": {
            "text/html": [
              "<div>\n",
              "<style scoped>\n",
              "    .dataframe tbody tr th:only-of-type {\n",
              "        vertical-align: middle;\n",
              "    }\n",
              "\n",
              "    .dataframe tbody tr th {\n",
              "        vertical-align: top;\n",
              "    }\n",
              "\n",
              "    .dataframe thead th {\n",
              "        text-align: right;\n",
              "    }\n",
              "</style>\n",
              "<table border=\"1\" class=\"dataframe\">\n",
              "  <thead>\n",
              "    <tr style=\"text-align: right;\">\n",
              "      <th></th>\n",
              "      <th>l_ipn</th>\n",
              "      <th>r_asn</th>\n",
              "      <th>f</th>\n",
              "    </tr>\n",
              "  </thead>\n",
              "  <tbody>\n",
              "    <tr>\n",
              "      <th>count</th>\n",
              "      <td>5147.000000</td>\n",
              "      <td>5147.000000</td>\n",
              "      <td>5147.000000</td>\n",
              "    </tr>\n",
              "    <tr>\n",
              "      <th>mean</th>\n",
              "      <td>4.465320</td>\n",
              "      <td>14696.764329</td>\n",
              "      <td>44.076549</td>\n",
              "    </tr>\n",
              "    <tr>\n",
              "      <th>std</th>\n",
              "      <td>3.428934</td>\n",
              "      <td>2772.057066</td>\n",
              "      <td>234.937257</td>\n",
              "    </tr>\n",
              "    <tr>\n",
              "      <th>min</th>\n",
              "      <td>0.000000</td>\n",
              "      <td>10013.000000</td>\n",
              "      <td>1.000000</td>\n",
              "    </tr>\n",
              "    <tr>\n",
              "      <th>25%</th>\n",
              "      <td>1.000000</td>\n",
              "      <td>12182.000000</td>\n",
              "      <td>1.000000</td>\n",
              "    </tr>\n",
              "    <tr>\n",
              "      <th>50%</th>\n",
              "      <td>5.000000</td>\n",
              "      <td>14742.000000</td>\n",
              "      <td>2.000000</td>\n",
              "    </tr>\n",
              "    <tr>\n",
              "      <th>75%</th>\n",
              "      <td>8.000000</td>\n",
              "      <td>17184.000000</td>\n",
              "      <td>10.000000</td>\n",
              "    </tr>\n",
              "    <tr>\n",
              "      <th>max</th>\n",
              "      <td>9.000000</td>\n",
              "      <td>19945.000000</td>\n",
              "      <td>7902.000000</td>\n",
              "    </tr>\n",
              "  </tbody>\n",
              "</table>\n",
              "</div>"
            ],
            "text/plain": [
              "             l_ipn         r_asn            f\n",
              "count  5147.000000   5147.000000  5147.000000\n",
              "mean      4.465320  14696.764329    44.076549\n",
              "std       3.428934   2772.057066   234.937257\n",
              "min       0.000000  10013.000000     1.000000\n",
              "25%       1.000000  12182.000000     1.000000\n",
              "50%       5.000000  14742.000000     2.000000\n",
              "75%       8.000000  17184.000000    10.000000\n",
              "max       9.000000  19945.000000  7902.000000"
            ]
          },
          "metadata": {
            "tags": []
          },
          "execution_count": 32
        }
      ]
    },
    {
      "cell_type": "code",
      "metadata": {
        "colab": {
          "base_uri": "https://localhost:8080/"
        },
        "id": "icGsrn3df8PE",
        "outputId": "c2e47f88-6872-485d-ccf2-2313ad861b5c"
      },
      "source": [
        "category = []\n",
        "\n",
        "for row in nw_20k['f']:\n",
        "   if row < 10 : category.append('0')\n",
        "   else:  category.append('1')\n",
        "\n",
        "nw_20k['category'] = category\n",
        "nw_20k.head"
      ],
      "execution_count": null,
      "outputs": [
        {
          "output_type": "stream",
          "text": [
            "/usr/local/lib/python3.7/dist-packages/ipykernel_launcher.py:7: SettingWithCopyWarning: \n",
            "A value is trying to be set on a copy of a slice from a DataFrame.\n",
            "Try using .loc[row_indexer,col_indexer] = value instead\n",
            "\n",
            "See the caveats in the documentation: https://pandas.pydata.org/pandas-docs/stable/user_guide/indexing.html#returning-a-view-versus-a-copy\n",
            "  import sys\n"
          ],
          "name": "stderr"
        },
        {
          "output_type": "execute_result",
          "data": {
            "text/plain": [
              "<bound method NDFrame.head of              date  l_ipn  r_asn  f category\n",
              "13     2006-07-01      0  10738  1        0\n",
              "14     2006-07-01      0  10994  1        0\n",
              "15     2006-07-01      0  12334  1        0\n",
              "16     2006-07-01      0  12524  1        0\n",
              "17     2006-07-01      0  12542  1        0\n",
              "...           ...    ...    ... ..      ...\n",
              "20773  2006-09-30      8  15270  2        0\n",
              "20774  2006-09-30      8  16805  1        0\n",
              "20775  2006-09-30      8  17225  1        0\n",
              "20776  2006-09-30      8  18588  4        0\n",
              "20777  2006-09-30      8  19024  1        0\n",
              "\n",
              "[5147 rows x 5 columns]>"
            ]
          },
          "metadata": {
            "tags": []
          },
          "execution_count": 33
        }
      ]
    },
    {
      "cell_type": "code",
      "metadata": {
        "colab": {
          "base_uri": "https://localhost:8080/",
          "height": 297
        },
        "id": "-e9bOnXHbtFQ",
        "outputId": "c4b7f2d8-6cf7-48ae-a28b-20a44d53f801"
      },
      "source": [
        "nw_30k = nw[(nw['r_asn'] > 20000) & (nw['r_asn'] < 30000)]\n",
        "nw_30k.head\n",
        "nw_30k.describe()"
      ],
      "execution_count": null,
      "outputs": [
        {
          "output_type": "execute_result",
          "data": {
            "text/html": [
              "<div>\n",
              "<style scoped>\n",
              "    .dataframe tbody tr th:only-of-type {\n",
              "        vertical-align: middle;\n",
              "    }\n",
              "\n",
              "    .dataframe tbody tr th {\n",
              "        vertical-align: top;\n",
              "    }\n",
              "\n",
              "    .dataframe thead th {\n",
              "        text-align: right;\n",
              "    }\n",
              "</style>\n",
              "<table border=\"1\" class=\"dataframe\">\n",
              "  <thead>\n",
              "    <tr style=\"text-align: right;\">\n",
              "      <th></th>\n",
              "      <th>l_ipn</th>\n",
              "      <th>r_asn</th>\n",
              "      <th>f</th>\n",
              "    </tr>\n",
              "  </thead>\n",
              "  <tbody>\n",
              "    <tr>\n",
              "      <th>count</th>\n",
              "      <td>2407.000000</td>\n",
              "      <td>2407.000000</td>\n",
              "      <td>2407.000000</td>\n",
              "    </tr>\n",
              "    <tr>\n",
              "      <th>mean</th>\n",
              "      <td>4.520150</td>\n",
              "      <td>24985.235978</td>\n",
              "      <td>24.255089</td>\n",
              "    </tr>\n",
              "    <tr>\n",
              "      <th>std</th>\n",
              "      <td>3.286966</td>\n",
              "      <td>3044.404817</td>\n",
              "      <td>157.109081</td>\n",
              "    </tr>\n",
              "    <tr>\n",
              "      <th>min</th>\n",
              "      <td>0.000000</td>\n",
              "      <td>20001.000000</td>\n",
              "      <td>1.000000</td>\n",
              "    </tr>\n",
              "    <tr>\n",
              "      <th>25%</th>\n",
              "      <td>1.000000</td>\n",
              "      <td>22205.000000</td>\n",
              "      <td>1.000000</td>\n",
              "    </tr>\n",
              "    <tr>\n",
              "      <th>50%</th>\n",
              "      <td>5.000000</td>\n",
              "      <td>25074.000000</td>\n",
              "      <td>2.000000</td>\n",
              "    </tr>\n",
              "    <tr>\n",
              "      <th>75%</th>\n",
              "      <td>8.000000</td>\n",
              "      <td>27357.000000</td>\n",
              "      <td>6.000000</td>\n",
              "    </tr>\n",
              "    <tr>\n",
              "      <th>max</th>\n",
              "      <td>9.000000</td>\n",
              "      <td>29975.000000</td>\n",
              "      <td>3416.000000</td>\n",
              "    </tr>\n",
              "  </tbody>\n",
              "</table>\n",
              "</div>"
            ],
            "text/plain": [
              "             l_ipn         r_asn            f\n",
              "count  2407.000000   2407.000000  2407.000000\n",
              "mean      4.520150  24985.235978    24.255089\n",
              "std       3.286966   3044.404817   157.109081\n",
              "min       0.000000  20001.000000     1.000000\n",
              "25%       1.000000  22205.000000     1.000000\n",
              "50%       5.000000  25074.000000     2.000000\n",
              "75%       8.000000  27357.000000     6.000000\n",
              "max       9.000000  29975.000000  3416.000000"
            ]
          },
          "metadata": {
            "tags": []
          },
          "execution_count": 34
        }
      ]
    },
    {
      "cell_type": "code",
      "metadata": {
        "colab": {
          "base_uri": "https://localhost:8080/"
        },
        "id": "7ycsvvmbgVcu",
        "outputId": "e16fa036-09a0-4fd9-8f71-06ef407feefb"
      },
      "source": [
        "category = []\n",
        " \n",
        "for row in nw_30k['f']:\n",
        "   if row < 6 : category.append('0')\n",
        "   else:  category.append('1')\n",
        " \n",
        "nw_30k['category'] = category\n",
        "nw_30k.head"
      ],
      "execution_count": null,
      "outputs": [
        {
          "output_type": "stream",
          "text": [
            "/usr/local/lib/python3.7/dist-packages/ipykernel_launcher.py:7: SettingWithCopyWarning: \n",
            "A value is trying to be set on a copy of a slice from a DataFrame.\n",
            "Try using .loc[row_indexer,col_indexer] = value instead\n",
            "\n",
            "See the caveats in the documentation: https://pandas.pydata.org/pandas-docs/stable/user_guide/indexing.html#returning-a-view-versus-a-copy\n",
            "  import sys\n"
          ],
          "name": "stderr"
        },
        {
          "output_type": "execute_result",
          "data": {
            "text/plain": [
              "<bound method NDFrame.head of              date  l_ipn  r_asn  f category\n",
              "28     2006-07-01      0  20258  1        0\n",
              "29     2006-07-01      0  20299  1        0\n",
              "30     2006-07-01      0  20685  1        0\n",
              "31     2006-07-01      0  21003  1        0\n",
              "32     2006-07-01      0  24915  2        0\n",
              "...           ...    ...    ... ..      ...\n",
              "20785  2006-09-30      8  25108  2        0\n",
              "20786  2006-09-30      8  26201  1        0\n",
              "20787  2006-09-30      8  26347  3        0\n",
              "20788  2006-09-30      8  29668  1        0\n",
              "20789  2006-09-30      8  29873  3        0\n",
              "\n",
              "[2407 rows x 5 columns]>"
            ]
          },
          "metadata": {
            "tags": []
          },
          "execution_count": 35
        }
      ]
    },
    {
      "cell_type": "code",
      "metadata": {
        "colab": {
          "base_uri": "https://localhost:8080/",
          "height": 297
        },
        "id": "izo7I46ybzbj",
        "outputId": "860fdd75-9848-4225-855a-69583eec4ddc"
      },
      "source": [
        "nw_30max = nw[nw['r_asn'] > 30000]\n",
        "nw_30max.head\n",
        "nw_30max.describe()"
      ],
      "execution_count": null,
      "outputs": [
        {
          "output_type": "execute_result",
          "data": {
            "text/html": [
              "<div>\n",
              "<style scoped>\n",
              "    .dataframe tbody tr th:only-of-type {\n",
              "        vertical-align: middle;\n",
              "    }\n",
              "\n",
              "    .dataframe tbody tr th {\n",
              "        vertical-align: top;\n",
              "    }\n",
              "\n",
              "    .dataframe thead th {\n",
              "        text-align: right;\n",
              "    }\n",
              "</style>\n",
              "<table border=\"1\" class=\"dataframe\">\n",
              "  <thead>\n",
              "    <tr style=\"text-align: right;\">\n",
              "      <th></th>\n",
              "      <th>l_ipn</th>\n",
              "      <th>r_asn</th>\n",
              "      <th>f</th>\n",
              "    </tr>\n",
              "  </thead>\n",
              "  <tbody>\n",
              "    <tr>\n",
              "      <th>count</th>\n",
              "      <td>1786.000000</td>\n",
              "      <td>1786.00000</td>\n",
              "      <td>1786.000000</td>\n",
              "    </tr>\n",
              "    <tr>\n",
              "      <th>mean</th>\n",
              "      <td>4.292273</td>\n",
              "      <td>33399.68869</td>\n",
              "      <td>67.091825</td>\n",
              "    </tr>\n",
              "    <tr>\n",
              "      <th>std</th>\n",
              "      <td>3.222595</td>\n",
              "      <td>2289.32136</td>\n",
              "      <td>368.258831</td>\n",
              "    </tr>\n",
              "    <tr>\n",
              "      <th>min</th>\n",
              "      <td>0.000000</td>\n",
              "      <td>30015.00000</td>\n",
              "      <td>1.000000</td>\n",
              "    </tr>\n",
              "    <tr>\n",
              "      <th>25%</th>\n",
              "      <td>2.000000</td>\n",
              "      <td>31976.00000</td>\n",
              "      <td>1.000000</td>\n",
              "    </tr>\n",
              "    <tr>\n",
              "      <th>50%</th>\n",
              "      <td>4.000000</td>\n",
              "      <td>33322.00000</td>\n",
              "      <td>4.000000</td>\n",
              "    </tr>\n",
              "    <tr>\n",
              "      <th>75%</th>\n",
              "      <td>8.000000</td>\n",
              "      <td>35216.00000</td>\n",
              "      <td>13.000000</td>\n",
              "    </tr>\n",
              "    <tr>\n",
              "      <th>max</th>\n",
              "      <td>9.000000</td>\n",
              "      <td>40092.00000</td>\n",
              "      <td>5059.000000</td>\n",
              "    </tr>\n",
              "  </tbody>\n",
              "</table>\n",
              "</div>"
            ],
            "text/plain": [
              "             l_ipn        r_asn            f\n",
              "count  1786.000000   1786.00000  1786.000000\n",
              "mean      4.292273  33399.68869    67.091825\n",
              "std       3.222595   2289.32136   368.258831\n",
              "min       0.000000  30015.00000     1.000000\n",
              "25%       2.000000  31976.00000     1.000000\n",
              "50%       4.000000  33322.00000     4.000000\n",
              "75%       8.000000  35216.00000    13.000000\n",
              "max       9.000000  40092.00000  5059.000000"
            ]
          },
          "metadata": {
            "tags": []
          },
          "execution_count": 36
        }
      ]
    },
    {
      "cell_type": "code",
      "metadata": {
        "colab": {
          "base_uri": "https://localhost:8080/"
        },
        "id": "tK1v496vcOcn",
        "outputId": "82d83590-9ac2-463b-a5ce-bb7b976c3105"
      },
      "source": [
        "category = []\n",
        "\n",
        "for row in nw_30max['f']:\n",
        "   if row < 13 : category.append('0')\n",
        "   else:  category.append('1')\n",
        "\n",
        "nw_30max['category'] = category\n",
        "nw_30max.head"
      ],
      "execution_count": null,
      "outputs": [
        {
          "output_type": "stream",
          "text": [
            "/usr/local/lib/python3.7/dist-packages/ipykernel_launcher.py:7: SettingWithCopyWarning: \n",
            "A value is trying to be set on a copy of a slice from a DataFrame.\n",
            "Try using .loc[row_indexer,col_indexer] = value instead\n",
            "\n",
            "See the caveats in the documentation: https://pandas.pydata.org/pandas-docs/stable/user_guide/indexing.html#returning-a-view-versus-a-copy\n",
            "  import sys\n"
          ],
          "name": "stderr"
        },
        {
          "output_type": "execute_result",
          "data": {
            "text/plain": [
              "<bound method NDFrame.head of              date  l_ipn  r_asn    f category\n",
              "34     2006-07-01      0  32636    1        0\n",
              "66     2006-07-01      2  33260    8        0\n",
              "67     2006-07-01      2  33650  174        1\n",
              "68     2006-07-01      2  36114    1        0\n",
              "88     2006-07-01      4  31976   83        1\n",
              "...           ...    ...    ...  ...      ...\n",
              "20795  2006-09-30      8  33176    3        0\n",
              "20796  2006-09-30      8  33322    1        0\n",
              "20797  2006-09-30      8  35845    1        0\n",
              "20798  2006-09-30      8  36351    3        0\n",
              "20799  2006-09-30      8  36856    4        0\n",
              "\n",
              "[1786 rows x 5 columns]>"
            ]
          },
          "metadata": {
            "tags": []
          },
          "execution_count": 37
        }
      ]
    },
    {
      "cell_type": "code",
      "metadata": {
        "colab": {
          "base_uri": "https://localhost:8080/"
        },
        "id": "vAfFQZ9GhWAR",
        "outputId": "98974d33-3da9-48e5-87ef-4f4662f4ff97"
      },
      "source": [
        "network1 =nw_5k.append(nw_10k)\n",
        "network2 =network1.append(nw_20k)\n",
        "network3 =network2.append(nw_30k)\n",
        "network =network3.append(nw_30max)\n",
        "network.head"
      ],
      "execution_count": null,
      "outputs": [
        {
          "output_type": "execute_result",
          "data": {
            "text/plain": [
              "<bound method NDFrame.head of              date  l_ipn  r_asn  f category\n",
              "0      2006-07-01      0    701  1        0\n",
              "1      2006-07-01      0    714  1        0\n",
              "2      2006-07-01      0   1239  1        0\n",
              "3      2006-07-01      0   1680  1        0\n",
              "4      2006-07-01      0   2514  1        0\n",
              "...           ...    ...    ... ..      ...\n",
              "20795  2006-09-30      8  33176  3        0\n",
              "20796  2006-09-30      8  33322  1        0\n",
              "20797  2006-09-30      8  35845  1        0\n",
              "20798  2006-09-30      8  36351  3        0\n",
              "20799  2006-09-30      8  36856  4        0\n",
              "\n",
              "[20803 rows x 5 columns]>"
            ]
          },
          "metadata": {
            "tags": []
          },
          "execution_count": 38
        }
      ]
    },
    {
      "cell_type": "code",
      "metadata": {
        "colab": {
          "base_uri": "https://localhost:8080/"
        },
        "id": "WyAMJWAviQo1",
        "outputId": "0bcce806-15a1-43f9-f4c1-3cdc3338e6f6"
      },
      "source": [
        "from google.colab import drive\n",
        "drive.mount('drive')"
      ],
      "execution_count": null,
      "outputs": [
        {
          "output_type": "stream",
          "text": [
            "Mounted at drive\n"
          ],
          "name": "stdout"
        }
      ]
    },
    {
      "cell_type": "code",
      "metadata": {
        "id": "srjNj5Suigiw"
      },
      "source": [
        "network.to_csv('network.csv')\n",
        "!cp network.csv \"drive/My Drive/\""
      ],
      "execution_count": null,
      "outputs": []
    },
    {
      "cell_type": "code",
      "metadata": {
        "colab": {
          "base_uri": "https://localhost:8080/"
        },
        "id": "g3LEC_KD0OvO",
        "outputId": "2a8d793b-3dc6-4a3c-eb63-69a9a1ad5f5d"
      },
      "source": [
        "network.isnull().sum()"
      ],
      "execution_count": null,
      "outputs": [
        {
          "output_type": "execute_result",
          "data": {
            "text/plain": [
              "date        0\n",
              "l_ipn       0\n",
              "r_asn       0\n",
              "f           0\n",
              "category    0\n",
              "dtype: int64"
            ]
          },
          "metadata": {
            "tags": []
          },
          "execution_count": 41
        }
      ]
    },
    {
      "cell_type": "code",
      "metadata": {
        "colab": {
          "base_uri": "https://localhost:8080/",
          "height": 282
        },
        "id": "JNlxVDKKmRn4",
        "outputId": "2c114a24-ff34-4240-c072-3c9ec4fbcdec"
      },
      "source": [
        "plt.scatter(network.f, network.category)"
      ],
      "execution_count": null,
      "outputs": [
        {
          "output_type": "execute_result",
          "data": {
            "text/plain": [
              "<matplotlib.collections.PathCollection at 0x7f3ad52d18d0>"
            ]
          },
          "metadata": {
            "tags": []
          },
          "execution_count": 42
        },
        {
          "output_type": "display_data",
          "data": {
            "image/png": "[encoded data removed]",
            "text/plain": [
              "<Figure size 432x288 with 1 Axes>"
            ]
          },
          "metadata": {
            "tags": [],
            "needs_background": "light"
          }
        }
      ]
    },
    {
      "cell_type": "code",
      "metadata": {
        "colab": {
          "base_uri": "https://localhost:8080/",
          "height": 285
        },
        "id": "0j1nc1mBh-DO",
        "outputId": "07eda42d-f5eb-4614-d17e-7d02fe527bee"
      },
      "source": [
        "network['category'].hist()"
      ],
      "execution_count": null,
      "outputs": [
        {
          "output_type": "execute_result",
          "data": {
            "text/plain": [
              "<matplotlib.axes._subplots.AxesSubplot at 0x7f3ad4c2b850>"
            ]
          },
          "metadata": {
            "tags": []
          },
          "execution_count": 43
        },
        {
          "output_type": "display_data",
          "data": {
            "image/png": "[encoded data removed]",
            "text/plain": [
              "<Figure size 432x288 with 1 Axes>"
            ]
          },
          "metadata": {
            "tags": [],
            "needs_background": "light"
          }
        }
      ]
    },
    {
      "cell_type": "code",
      "metadata": {
        "colab": {
          "base_uri": "https://localhost:8080/",
          "height": 287
        },
        "id": "sFPpkVOC55AC",
        "outputId": "edced976-95d7-46f4-ee2d-e980699dcae4"
      },
      "source": [
        "from scipy.stats import pearsonr\n",
        "corr = network.iloc[:,:-1].corr(method = 'pearson')\n",
        "cmap = sns.diverging_palette(250,354,80,69, center = 'dark', as_cmap = True)\n",
        "sns.heatmap(corr, vmax =1, vmin =-.5, cmap = cmap, square = True, linewidths = .2)"
      ],
      "execution_count": null,
      "outputs": [
        {
          "output_type": "execute_result",
          "data": {
            "text/plain": [
              "<matplotlib.axes._subplots.AxesSubplot at 0x7f3ad52ebd10>"
            ]
          },
          "metadata": {
            "tags": []
          },
          "execution_count": 44
        },
        {
          "output_type": "display_data",
          "data": {
            "image/png": "[encoded data removed]",
            "text/plain": [
              "<Figure size 432x288 with 2 Axes>"
            ]
          },
          "metadata": {
            "tags": [],
            "needs_background": "light"
          }
        }
      ]
    },
    {
      "cell_type": "code",
      "metadata": {
        "id": "AbEakVd7YHy8"
      },
      "source": [
        "#from scipy.stats import pearsonr\n",
        "#from scipy import stats\n",
        "#from scipy.stats import pointbiserialr\n",
        "#ff= network['f'].to_list()\n",
        "#cat = network['category'].to_list()\n",
        "#network['f']=network['f'].astype(int)\n",
        "#network['category']=network['category'].astype(int)\n",
        "\n",
        "#stats.pearsonr(network['f'],network['category'])\n",
        "#network.head()\n",
        "#network.corr(method ='kendall')"
      ],
      "execution_count": null,
      "outputs": []
    },
    {
      "cell_type": "code",
      "metadata": {
        "id": "pacAdqc1mVpg"
      },
      "source": [
        "#plt.scatter(network.r_asn, network.category)"
      ],
      "execution_count": null,
      "outputs": []
    },
    {
      "cell_type": "code",
      "metadata": {
        "id": "aXHECFr0md0S"
      },
      "source": [
        "#plt.scatter(network.l_ipn, network.r_asn)"
      ],
      "execution_count": null,
      "outputs": []
    },
    {
      "cell_type": "code",
      "metadata": {
        "colab": {
          "base_uri": "https://localhost:8080/",
          "height": 419
        },
        "id": "lSzp-PdrmyKx",
        "outputId": "02e400f6-3b5d-4fb0-ac1e-fe3c4348c220"
      },
      "source": [
        "from sklearn.model_selection import train_test_split\n",
        "X_train, X_test, Y_train, Y_test = train_test_split(network[['f']],network.category,test_size=0.3)\n",
        "X_test"
      ],
      "execution_count": null,
      "outputs": [
        {
          "output_type": "execute_result",
          "data": {
            "text/html": [
              "<div>\n",
              "<style scoped>\n",
              "    .dataframe tbody tr th:only-of-type {\n",
              "        vertical-align: middle;\n",
              "    }\n",
              "\n",
              "    .dataframe tbody tr th {\n",
              "        vertical-align: top;\n",
              "    }\n",
              "\n",
              "    .dataframe thead th {\n",
              "        text-align: right;\n",
              "    }\n",
              "</style>\n",
              "<table border=\"1\" class=\"dataframe\">\n",
              "  <thead>\n",
              "    <tr style=\"text-align: right;\">\n",
              "      <th></th>\n",
              "      <th>f</th>\n",
              "    </tr>\n",
              "  </thead>\n",
              "  <tbody>\n",
              "    <tr>\n",
              "      <th>13781</th>\n",
              "      <td>1</td>\n",
              "    </tr>\n",
              "    <tr>\n",
              "      <th>8341</th>\n",
              "      <td>2</td>\n",
              "    </tr>\n",
              "    <tr>\n",
              "      <th>4686</th>\n",
              "      <td>17</td>\n",
              "    </tr>\n",
              "    <tr>\n",
              "      <th>10568</th>\n",
              "      <td>1</td>\n",
              "    </tr>\n",
              "    <tr>\n",
              "      <th>20117</th>\n",
              "      <td>1</td>\n",
              "    </tr>\n",
              "    <tr>\n",
              "      <th>...</th>\n",
              "      <td>...</td>\n",
              "    </tr>\n",
              "    <tr>\n",
              "      <th>17491</th>\n",
              "      <td>1</td>\n",
              "    </tr>\n",
              "    <tr>\n",
              "      <th>4412</th>\n",
              "      <td>3</td>\n",
              "    </tr>\n",
              "    <tr>\n",
              "      <th>12362</th>\n",
              "      <td>4</td>\n",
              "    </tr>\n",
              "    <tr>\n",
              "      <th>17156</th>\n",
              "      <td>7</td>\n",
              "    </tr>\n",
              "    <tr>\n",
              "      <th>9281</th>\n",
              "      <td>3</td>\n",
              "    </tr>\n",
              "  </tbody>\n",
              "</table>\n",
              "<p>6241 rows × 1 columns</p>\n",
              "</div>"
            ],
            "text/plain": [
              "        f\n",
              "13781   1\n",
              "8341    2\n",
              "4686   17\n",
              "10568   1\n",
              "20117   1\n",
              "...    ..\n",
              "17491   1\n",
              "4412    3\n",
              "12362   4\n",
              "17156   7\n",
              "9281    3\n",
              "\n",
              "[6241 rows x 1 columns]"
            ]
          },
          "metadata": {
            "tags": []
          },
          "execution_count": 46
        }
      ]
    },
    {
      "cell_type": "markdown",
      "metadata": {
        "id": "62YUEOPNfV7Y"
      },
      "source": [
        "#**Logistic Regression**"
      ]
    },
    {
      "cell_type": "code",
      "metadata": {
        "colab": {
          "base_uri": "https://localhost:8080/"
        },
        "id": "Ayqmi1Mrn4Zl",
        "outputId": "d5d73273-ba72-4606-e6f2-e9078f76d4b0"
      },
      "source": [
        "from sklearn.linear_model import LogisticRegression\n",
        "model = LogisticRegression()\n",
        "model.fit(X_train,Y_train)\n"
      ],
      "execution_count": null,
      "outputs": [
        {
          "output_type": "execute_result",
          "data": {
            "text/plain": [
              "LogisticRegression(C=1.0, class_weight=None, dual=False, fit_intercept=True,\n",
              "                   intercept_scaling=1, l1_ratio=None, max_iter=100,\n",
              "                   multi_class='auto', n_jobs=None, penalty='l2',\n",
              "                   random_state=None, solver='lbfgs', tol=0.0001, verbose=0,\n",
              "                   warm_start=False)"
            ]
          },
          "metadata": {
            "tags": []
          },
          "execution_count": 47
        }
      ]
    },
    {
      "cell_type": "code",
      "metadata": {
        "colab": {
          "base_uri": "https://localhost:8080/"
        },
        "id": "DdrZP8SDF4Sj",
        "outputId": "03a9a7cf-5e13-426d-e7f3-61c6812afc04"
      },
      "source": [
        "model.predict(X_test)"
      ],
      "execution_count": null,
      "outputs": [
        {
          "output_type": "execute_result",
          "data": {
            "text/plain": [
              "array(['0', '0', '1', ..., '0', '0', '0'], dtype=object)"
            ]
          },
          "metadata": {
            "tags": []
          },
          "execution_count": 48
        }
      ]
    },
    {
      "cell_type": "code",
      "metadata": {
        "colab": {
          "base_uri": "https://localhost:8080/"
        },
        "id": "JOcmttZVF-G6",
        "outputId": "9d2f8852-ad8b-446e-cc70-0536a21edbdc"
      },
      "source": [
        "model.score(X_test,Y_test)"
      ],
      "execution_count": null,
      "outputs": [
        {
          "output_type": "execute_result",
          "data": {
            "text/plain": [
              "0.9695561608716552"
            ]
          },
          "metadata": {
            "tags": []
          },
          "execution_count": 50
        }
      ]
    },
    {
      "cell_type": "code",
      "metadata": {
        "colab": {
          "base_uri": "https://localhost:8080/"
        },
        "id": "VG3yEL7RGERz",
        "outputId": "75ccf746-02af-4118-d93d-56663d662031"
      },
      "source": [
        "model.predict_proba(X_test)"
      ],
      "execution_count": null,
      "outputs": [
        {
          "output_type": "execute_result",
          "data": {
            "text/plain": [
              "array([[9.98582974e-01, 1.41702553e-03],\n",
              "       [9.96306986e-01, 3.69301442e-03],\n",
              "       [1.49979663e-04, 9.99850020e-01],\n",
              "       ...,\n",
              "       [9.75332278e-01, 2.46677220e-02],\n",
              "       [6.89286978e-01, 3.10713022e-01],\n",
              "       [9.90410469e-01, 9.58953085e-03]])"
            ]
          },
          "metadata": {
            "tags": []
          },
          "execution_count": 49
        }
      ]
    },
    {
      "cell_type": "code",
      "metadata": {
        "id": "mPtnIGY7Gcpf"
      },
      "source": [
        "from sklearn.model_selection import train_test_split\n",
        "#X_train, X_test, Y_train, Y_test = train_test_split(network[['r_asn']],network.category,test_size=0.1)\n",
        "#X_test\n",
        "#from sklearn.linear_model import LogisticRegression\n",
        "#model = LogisticRegression()\n",
        "#model.fit(X_train,Y_train)\n",
        "#model.predict(X_test)"
      ],
      "execution_count": null,
      "outputs": []
    },
    {
      "cell_type": "code",
      "metadata": {
        "colab": {
          "base_uri": "https://localhost:8080/"
        },
        "id": "-2Mp9jtHHTHC",
        "outputId": "1fb2cccd-b9ac-438f-ecbd-d6e1f9be2784"
      },
      "source": [
        "model.score(X_test,Y_test)"
      ],
      "execution_count": null,
      "outputs": [
        {
          "output_type": "execute_result",
          "data": {
            "text/plain": [
              "0.9695561608716552"
            ]
          },
          "metadata": {
            "tags": []
          },
          "execution_count": 52
        }
      ]
    },
    {
      "cell_type": "code",
      "metadata": {
        "colab": {
          "base_uri": "https://localhost:8080/"
        },
        "id": "9rnWoSelHaUc",
        "outputId": "c62b08f6-f9a2-444b-c447-facebaacd8a8"
      },
      "source": [
        "from sklearn.model_selection import train_test_split\n",
        "X_train, X_test, Y_train, Y_test = train_test_split(network[['l_ipn']],network.category,test_size=0.1)\n",
        "X_test\n",
        "from sklearn.linear_model import LogisticRegression\n",
        "model = LogisticRegression()\n",
        "model.fit(X_train,Y_train)\n",
        "model.predict(X_test)\n",
        "model.score(X_test,Y_test)"
      ],
      "execution_count": null,
      "outputs": [
        {
          "output_type": "execute_result",
          "data": {
            "text/plain": [
              "0.7385872176838059"
            ]
          },
          "metadata": {
            "tags": []
          },
          "execution_count": 53
        }
      ]
    },
    {
      "cell_type": "code",
      "metadata": {
        "id": "6iS5YMwgJaQ2"
      },
      "source": [
        "X = network.drop([\"category\",'date','r_asn'], axis =1)\n",
        "y = network['category']"
      ],
      "execution_count": 148,
      "outputs": []
    },
    {
      "cell_type": "code",
      "metadata": {
        "colab": {
          "base_uri": "https://localhost:8080/"
        },
        "id": "c1gpAoV7JqfM",
        "outputId": "da1e7e45-99b4-471a-89c5-b8beda9faed8"
      },
      "source": [
        "X_train, X_test, y_train, y_test = train_test_split(X,y,test_size=0.3)\n",
        "logmodel = LogisticRegression()\n",
        "logmodel.fit(X_train, y_train)"
      ],
      "execution_count": 152,
      "outputs": [
        {
          "output_type": "execute_result",
          "data": {
            "text/plain": [
              "LogisticRegression(C=1.0, class_weight=None, dual=False, fit_intercept=True,\n",
              "                   intercept_scaling=1, l1_ratio=None, max_iter=100,\n",
              "                   multi_class='auto', n_jobs=None, penalty='l2',\n",
              "                   random_state=None, solver='lbfgs', tol=0.0001, verbose=0,\n",
              "                   warm_start=False)"
            ]
          },
          "metadata": {
            "tags": []
          },
          "execution_count": 152
        }
      ]
    },
    {
      "cell_type": "code",
      "metadata": {
        "colab": {
          "base_uri": "https://localhost:8080/"
        },
        "id": "olXVJPSYLuJz",
        "outputId": "b1229583-601e-4797-e711-a075fd046ecd"
      },
      "source": [
        "predictions=logmodel.predict(X_test)\n",
        "logmodel.score(X_test,y_test)"
      ],
      "execution_count": 154,
      "outputs": [
        {
          "output_type": "execute_result",
          "data": {
            "text/plain": [
              "0.9663515462265663"
            ]
          },
          "metadata": {
            "tags": []
          },
          "execution_count": 154
        }
      ]
    },
    {
      "cell_type": "code",
      "metadata": {
        "colab": {
          "base_uri": "https://localhost:8080/",
          "height": 69
        },
        "id": "ekseA043Mn_r",
        "outputId": "de62d343-1042-4d9b-f8c1-5858f68015d6"
      },
      "source": [
        "from sklearn.metrics import classification_report\n",
        "classification_report(y_test,predictions)"
      ],
      "execution_count": null,
      "outputs": [
        {
          "output_type": "execute_result",
          "data": {
            "application/vnd.google.colaboratory.intrinsic+json": {
              "type": "string"
            },
            "text/plain": [
              "'              precision    recall  f1-score   support\\n\\n           0       0.97      0.98      0.98      4627\\n           1       0.95      0.92      0.93      1614\\n\\n    accuracy                           0.97      6241\\n   macro avg       0.96      0.95      0.96      6241\\nweighted avg       0.97      0.97      0.97      6241\\n'"
            ]
          },
          "metadata": {
            "tags": []
          },
          "execution_count": 57
        }
      ]
    },
    {
      "cell_type": "code",
      "metadata": {
        "colab": {
          "base_uri": "https://localhost:8080/"
        },
        "id": "vA3AghmXM3wB",
        "outputId": "78adc74f-af9b-4c97-81ff-971a8e6ee012"
      },
      "source": [
        "from sklearn.metrics import confusion_matrix\n",
        "confusion_matrix(y_test,predictions)"
      ],
      "execution_count": 155,
      "outputs": [
        {
          "output_type": "execute_result",
          "data": {
            "text/plain": [
              "array([[4480,   98],\n",
              "       [ 112, 1551]])"
            ]
          },
          "metadata": {
            "tags": []
          },
          "execution_count": 155
        }
      ]
    },
    {
      "cell_type": "markdown",
      "metadata": {
        "id": "ATVfe1LZNv_a"
      },
      "source": [
        "# **Naive Bayes Classifier**"
      ]
    },
    {
      "cell_type": "code",
      "metadata": {
        "id": "prGh0hiANurN"
      },
      "source": [
        "X= network.drop([\"category\",'date','r_asn'], axis =1)\n",
        "X_train, X_test, y_train, y_test = train_test_split(X,y,test_size=0.3)"
      ],
      "execution_count": 157,
      "outputs": []
    },
    {
      "cell_type": "code",
      "metadata": {
        "colab": {
          "base_uri": "https://localhost:8080/"
        },
        "id": "fYp3M6B1QIsC",
        "outputId": "292606c8-d8e5-4382-dfc2-cdfab24d4f77"
      },
      "source": [
        "len(X_train)"
      ],
      "execution_count": null,
      "outputs": [
        {
          "output_type": "execute_result",
          "data": {
            "text/plain": [
              "14562"
            ]
          },
          "metadata": {
            "tags": []
          },
          "execution_count": 60
        }
      ]
    },
    {
      "cell_type": "code",
      "metadata": {
        "colab": {
          "base_uri": "https://localhost:8080/"
        },
        "id": "3-G91RrNRnur",
        "outputId": "4f305559-0e30-464a-c699-15a2e86d8959"
      },
      "source": [
        "len(X_test)"
      ],
      "execution_count": null,
      "outputs": [
        {
          "output_type": "execute_result",
          "data": {
            "text/plain": [
              "6241"
            ]
          },
          "metadata": {
            "tags": []
          },
          "execution_count": 61
        }
      ]
    },
    {
      "cell_type": "code",
      "metadata": {
        "colab": {
          "base_uri": "https://localhost:8080/"
        },
        "id": "BR2-glKDR1ar",
        "outputId": "15ed65c1-41e3-4f7b-c2c3-d1816f34de6d"
      },
      "source": [
        "from sklearn.naive_bayes import GaussianNB\n",
        "gmodel = GaussianNB()\n",
        "gmodel.fit(X_train, y_train)"
      ],
      "execution_count": 158,
      "outputs": [
        {
          "output_type": "execute_result",
          "data": {
            "text/plain": [
              "GaussianNB(priors=None, var_smoothing=1e-09)"
            ]
          },
          "metadata": {
            "tags": []
          },
          "execution_count": 158
        }
      ]
    },
    {
      "cell_type": "code",
      "metadata": {
        "colab": {
          "base_uri": "https://localhost:8080/"
        },
        "id": "9uFEIfaBSJEQ",
        "outputId": "14771888-4462-47a7-9fd0-dd60b17a5060"
      },
      "source": [
        "gmodel.score(X_test, y_test)"
      ],
      "execution_count": 159,
      "outputs": [
        {
          "output_type": "execute_result",
          "data": {
            "text/plain": [
              "0.9581797788815895"
            ]
          },
          "metadata": {
            "tags": []
          },
          "execution_count": 159
        }
      ]
    },
    {
      "cell_type": "code",
      "metadata": {
        "colab": {
          "base_uri": "https://localhost:8080/"
        },
        "id": "QN7q8FXeSeyv",
        "outputId": "5275257a-2907-40fb-f67d-773b9ec84871"
      },
      "source": [
        "g = gmodel.predict_proba(X_test[:10]).astype(float)\n",
        "g = np.around(g)\n",
        "print(g)"
      ],
      "execution_count": 160,
      "outputs": [
        {
          "output_type": "stream",
          "text": [
            "[[1. 0.]\n",
            " [1. 0.]\n",
            " [1. 0.]\n",
            " [1. 0.]\n",
            " [1. 0.]\n",
            " [1. 0.]\n",
            " [1. 0.]\n",
            " [0. 1.]\n",
            " [1. 0.]\n",
            " [0. 1.]]\n"
          ],
          "name": "stdout"
        }
      ]
    },
    {
      "cell_type": "markdown",
      "metadata": {
        "id": "H7OcfiFS59LX"
      },
      "source": [
        "#**Neural Network**"
      ]
    },
    {
      "cell_type": "code",
      "metadata": {
        "colab": {
          "base_uri": "https://localhost:8080/"
        },
        "id": "EJJPsS9j7P4r",
        "outputId": "83f1c481-b34d-4687-e595-2259ccd609be"
      },
      "source": [
        "pip install keras"
      ],
      "execution_count": null,
      "outputs": [
        {
          "output_type": "stream",
          "text": [
            "Requirement already satisfied: keras in /usr/local/lib/python3.7/dist-packages (2.4.3)\n",
            "Requirement already satisfied: h5py in /usr/local/lib/python3.7/dist-packages (from keras) (3.1.0)\n",
            "Requirement already satisfied: scipy>=0.14 in /usr/local/lib/python3.7/dist-packages (from keras) (1.4.1)\n",
            "Requirement already satisfied: pyyaml in /usr/local/lib/python3.7/dist-packages (from keras) (3.13)\n",
            "Requirement already satisfied: numpy>=1.9.1 in /usr/local/lib/python3.7/dist-packages (from keras) (1.19.5)\n",
            "Requirement already satisfied: cached-property; python_version < \"3.8\" in /usr/local/lib/python3.7/dist-packages (from h5py->keras) (1.5.2)\n"
          ],
          "name": "stdout"
        }
      ]
    },
    {
      "cell_type": "code",
      "metadata": {
        "id": "6KEP8gm17TtD"
      },
      "source": [
        "from numpy import loadtxt\n",
        "from keras.models import Sequential\n",
        "from keras.layers import Dense"
      ],
      "execution_count": null,
      "outputs": []
    },
    {
      "cell_type": "code",
      "metadata": {
        "colab": {
          "resources": {
            "http://localhost:8080/nbextensions/google.colab/files.js": {
              "data": "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",
              "ok": true,
              "headers": [
                [
                  "content-type",
                  "application/javascript"
                ]
              ],
              "status": 200,
              "status_text": ""
            }
          },
          "base_uri": "https://localhost:8080/",
          "height": 72
        },
        "id": "aLdnSjj7EAsP",
        "outputId": "62542da8-8d54-43b0-8449-74cf5c3e0c2d"
      },
      "source": [
        "from google.colab import files\n",
        "uploaded = files.upload()"
      ],
      "execution_count": null,
      "outputs": [
        {
          "output_type": "display_data",
          "data": {
            "text/html": [
              "\n",
              "     <input type=\"file\" id=\"files-ac385e87-1b30-400b-bde6-d42d94107346\" name=\"files[]\" multiple disabled\n",
              "        style=\"border:none\" />\n",
              "     <output id=\"result-ac385e87-1b30-400b-bde6-d42d94107346\">\n",
              "      Upload widget is only available when the cell has been executed in the\n",
              "      current browser session. Please rerun this cell to enable.\n",
              "      </output>\n",
              "      <script src=\"/nbextensions/google.colab/files.js\"></script> "
            ],
            "text/plain": [
              "<IPython.core.display.HTML object>"
            ]
          },
          "metadata": {
            "tags": []
          }
        },
        {
          "output_type": "stream",
          "text": [
            "Saving networkmehh.csv to networkmehh.csv\n"
          ],
          "name": "stdout"
        }
      ]
    },
    {
      "cell_type": "code",
      "metadata": {
        "id": "x4nPlaPJHb35",
        "colab": {
          "base_uri": "https://localhost:8080/"
        },
        "outputId": "48370093-1f72-4f35-f899-7d16f841e7ee"
      },
      "source": [
        "import io\n",
        "nwk = pd.read_csv(io.BytesIO(uploaded['networkmehh.csv']))\n",
        "nwk.head"
      ],
      "execution_count": null,
      "outputs": [
        {
          "output_type": "execute_result",
          "data": {
            "text/plain": [
              "<bound method NDFrame.head of        Unnamed: 0  l_ipn  r_asn  f  category\n",
              "0               0      0    701  1         0\n",
              "1               1      0    714  1         0\n",
              "2               2      0   1239  1         0\n",
              "3               3      0   1680  1         0\n",
              "4               4      0   2514  1         0\n",
              "...           ...    ...    ... ..       ...\n",
              "20798       20795      8  33176  3         0\n",
              "20799       20796      8  33322  1         0\n",
              "20800       20797      8  35845  1         0\n",
              "20801       20798      8  36351  3         0\n",
              "20802       20799      8  36856  4         0\n",
              "\n",
              "[20803 rows x 5 columns]>"
            ]
          },
          "metadata": {
            "tags": []
          },
          "execution_count": 68
        }
      ]
    },
    {
      "cell_type": "code",
      "metadata": {
        "id": "Z-zh8TFuCrxO"
      },
      "source": [
        "X = nwk.drop([\"category\",'r_asn'], axis =1)\n",
        "y = nwk['category']"
      ],
      "execution_count": 162,
      "outputs": []
    },
    {
      "cell_type": "code",
      "metadata": {
        "id": "t93njBsVDE9_"
      },
      "source": [
        "#input dim =3\n",
        "# define the keras model\n",
        "model = Sequential()\n",
        "model.add(Dense(12, input_dim=3, activation='relu'))\n",
        "model.add(Dense(3, activation='relu'))\n",
        "model.add(Dense(1, activation='sigmoid'))"
      ],
      "execution_count": 170,
      "outputs": []
    },
    {
      "cell_type": "code",
      "metadata": {
        "id": "KTgilef5DoLq"
      },
      "source": [
        "# compile the keras model\n",
        "model.compile(loss='binary_crossentropy', optimizer='adam', metrics=['accuracy'])"
      ],
      "execution_count": 171,
      "outputs": []
    },
    {
      "cell_type": "code",
      "metadata": {
        "colab": {
          "base_uri": "https://localhost:8080/"
        },
        "id": "2kKoRTpsDpSX",
        "outputId": "f3f4bfbf-009a-441f-a715-c661942c7285"
      },
      "source": [
        "# fit the keras model on the dataset\n",
        "neural = model.fit(X, y, epochs=150, batch_size=10)"
      ],
      "execution_count": 172,
      "outputs": [
        {
          "output_type": "stream",
          "text": [
            "Epoch 1/150\n",
            "2081/2081 [==============================] - 3s 1ms/step - loss: 27.5563 - accuracy: 0.6898\n",
            "Epoch 2/150\n",
            "2081/2081 [==============================] - 2s 1ms/step - loss: 22.2557 - accuracy: 0.7411\n",
            "Epoch 3/150\n",
            "2081/2081 [==============================] - 2s 1ms/step - loss: 3.0960 - accuracy: 0.7431\n",
            "Epoch 4/150\n",
            "2081/2081 [==============================] - 2s 1ms/step - loss: 0.5782 - accuracy: 0.7351\n",
            "Epoch 5/150\n",
            "2081/2081 [==============================] - 2s 1ms/step - loss: 0.5756 - accuracy: 0.7376\n",
            "Epoch 6/150\n",
            "2081/2081 [==============================] - 2s 1ms/step - loss: 0.5716 - accuracy: 0.7414\n",
            "Epoch 7/150\n",
            "2081/2081 [==============================] - 2s 1ms/step - loss: 0.5799 - accuracy: 0.7334\n",
            "Epoch 8/150\n",
            "2081/2081 [==============================] - 2s 1ms/step - loss: 0.5771 - accuracy: 0.7362\n",
            "Epoch 9/150\n",
            "2081/2081 [==============================] - 2s 1ms/step - loss: 0.5728 - accuracy: 0.7403\n",
            "Epoch 10/150\n",
            "2081/2081 [==============================] - 2s 1ms/step - loss: 0.5716 - accuracy: 0.7414\n",
            "Epoch 11/150\n",
            "2081/2081 [==============================] - 2s 1ms/step - loss: 0.5711 - accuracy: 0.7420\n",
            "Epoch 12/150\n",
            "2081/2081 [==============================] - 2s 1ms/step - loss: 0.5715 - accuracy: 0.7415\n",
            "Epoch 13/150\n",
            "2081/2081 [==============================] - 2s 1ms/step - loss: 0.5742 - accuracy: 0.7390\n",
            "Epoch 14/150\n",
            "2081/2081 [==============================] - 2s 1ms/step - loss: 0.5703 - accuracy: 0.7427\n",
            "Epoch 15/150\n",
            "2081/2081 [==============================] - 2s 1ms/step - loss: 0.5686 - accuracy: 0.7443\n",
            "Epoch 16/150\n",
            "2081/2081 [==============================] - 3s 1ms/step - loss: 0.5759 - accuracy: 0.7374\n",
            "Epoch 17/150\n",
            "2081/2081 [==============================] - 3s 1ms/step - loss: 0.5749 - accuracy: 0.7383\n",
            "Epoch 18/150\n",
            "2081/2081 [==============================] - 2s 1ms/step - loss: 0.5758 - accuracy: 0.7374\n",
            "Epoch 19/150\n",
            "2081/2081 [==============================] - 2s 1ms/step - loss: 0.5728 - accuracy: 0.7403\n",
            "Epoch 20/150\n",
            "2081/2081 [==============================] - 2s 1ms/step - loss: 0.5745 - accuracy: 0.7387\n",
            "Epoch 21/150\n",
            "2081/2081 [==============================] - 2s 1ms/step - loss: 0.5750 - accuracy: 0.7382\n",
            "Epoch 22/150\n",
            "2081/2081 [==============================] - 2s 1ms/step - loss: 0.5766 - accuracy: 0.7367\n",
            "Epoch 23/150\n",
            "2081/2081 [==============================] - 2s 1ms/step - loss: 0.5748 - accuracy: 0.7384\n",
            "Epoch 24/150\n",
            "2081/2081 [==============================] - 2s 1ms/step - loss: 0.5728 - accuracy: 0.7403\n",
            "Epoch 25/150\n",
            "2081/2081 [==============================] - 2s 1ms/step - loss: 0.5786 - accuracy: 0.7347\n",
            "Epoch 26/150\n",
            "2081/2081 [==============================] - 2s 1ms/step - loss: 0.5798 - accuracy: 0.7335\n",
            "Epoch 27/150\n",
            "2081/2081 [==============================] - 2s 1ms/step - loss: 0.5772 - accuracy: 0.7361\n",
            "Epoch 28/150\n",
            "2081/2081 [==============================] - 2s 1ms/step - loss: 0.5776 - accuracy: 0.7357\n",
            "Epoch 29/150\n",
            "2081/2081 [==============================] - 2s 1ms/step - loss: 0.5778 - accuracy: 0.7356\n",
            "Epoch 30/150\n",
            "2081/2081 [==============================] - 2s 1ms/step - loss: 0.5730 - accuracy: 0.7402\n",
            "Epoch 31/150\n",
            "2081/2081 [==============================] - 3s 1ms/step - loss: 0.5709 - accuracy: 0.7421\n",
            "Epoch 32/150\n",
            "2081/2081 [==============================] - 2s 1ms/step - loss: 0.5727 - accuracy: 0.7404\n",
            "Epoch 33/150\n",
            "2081/2081 [==============================] - 2s 1ms/step - loss: 0.5751 - accuracy: 0.7381\n",
            "Epoch 34/150\n",
            "2081/2081 [==============================] - 2s 1ms/step - loss: 0.5725 - accuracy: 0.7406\n",
            "Epoch 35/150\n",
            "2081/2081 [==============================] - 3s 1ms/step - loss: 0.5786 - accuracy: 0.7347\n",
            "Epoch 36/150\n",
            "2081/2081 [==============================] - 3s 1ms/step - loss: 0.5693 - accuracy: 0.7436\n",
            "Epoch 37/150\n",
            "2081/2081 [==============================] - 2s 1ms/step - loss: 0.5817 - accuracy: 0.7316\n",
            "Epoch 38/150\n",
            "2081/2081 [==============================] - 2s 1ms/step - loss: 0.5734 - accuracy: 0.7397\n",
            "Epoch 39/150\n",
            "2081/2081 [==============================] - 2s 1ms/step - loss: 0.5700 - accuracy: 0.7430\n",
            "Epoch 40/150\n",
            "2081/2081 [==============================] - 2s 1ms/step - loss: 0.5743 - accuracy: 0.7389\n",
            "Epoch 41/150\n",
            "2081/2081 [==============================] - 2s 1ms/step - loss: 0.5772 - accuracy: 0.7361\n",
            "Epoch 42/150\n",
            "2081/2081 [==============================] - 2s 1ms/step - loss: 0.5765 - accuracy: 0.7367\n",
            "Epoch 43/150\n",
            "2081/2081 [==============================] - 2s 1ms/step - loss: 0.5716 - accuracy: 0.7415\n",
            "Epoch 44/150\n",
            "2081/2081 [==============================] - 2s 1ms/step - loss: 0.5798 - accuracy: 0.7335\n",
            "Epoch 45/150\n",
            "2081/2081 [==============================] - 2s 1ms/step - loss: 0.5821 - accuracy: 0.7313\n",
            "Epoch 46/150\n",
            "2081/2081 [==============================] - 3s 1ms/step - loss: 0.5767 - accuracy: 0.7365\n",
            "Epoch 47/150\n",
            "2081/2081 [==============================] - 3s 1ms/step - loss: 0.5776 - accuracy: 0.7357\n",
            "Epoch 48/150\n",
            "2081/2081 [==============================] - 3s 1ms/step - loss: 0.5743 - accuracy: 0.7388\n",
            "Epoch 49/150\n",
            "2081/2081 [==============================] - 2s 1ms/step - loss: 0.5715 - accuracy: 0.7415\n",
            "Epoch 50/150\n",
            "2081/2081 [==============================] - 2s 1ms/step - loss: 0.5768 - accuracy: 0.7364\n",
            "Epoch 51/150\n",
            "2081/2081 [==============================] - 2s 1ms/step - loss: 0.5760 - accuracy: 0.7372\n",
            "Epoch 52/150\n",
            "2081/2081 [==============================] - 2s 1ms/step - loss: 0.5688 - accuracy: 0.7440\n",
            "Epoch 53/150\n",
            "2081/2081 [==============================] - 2s 1ms/step - loss: 0.5741 - accuracy: 0.7391\n",
            "Epoch 54/150\n",
            "2081/2081 [==============================] - 2s 1ms/step - loss: 0.5775 - accuracy: 0.7357\n",
            "Epoch 55/150\n",
            "2081/2081 [==============================] - 2s 1ms/step - loss: 0.5745 - accuracy: 0.7386\n",
            "Epoch 56/150\n",
            "2081/2081 [==============================] - 2s 1ms/step - loss: 0.5739 - accuracy: 0.7392\n",
            "Epoch 57/150\n",
            "2081/2081 [==============================] - 2s 1ms/step - loss: 0.5745 - accuracy: 0.7386\n",
            "Epoch 58/150\n",
            "2081/2081 [==============================] - 2s 1ms/step - loss: 0.5698 - accuracy: 0.7432\n",
            "Epoch 59/150\n",
            "2081/2081 [==============================] - 2s 1ms/step - loss: 0.5755 - accuracy: 0.7377\n",
            "Epoch 60/150\n",
            "2081/2081 [==============================] - 2s 1ms/step - loss: 0.5763 - accuracy: 0.7369\n",
            "Epoch 61/150\n",
            "2081/2081 [==============================] - 3s 1ms/step - loss: 0.5711 - accuracy: 0.7418\n",
            "Epoch 62/150\n",
            "2081/2081 [==============================] - 2s 1ms/step - loss: 0.5757 - accuracy: 0.7375\n",
            "Epoch 63/150\n",
            "2081/2081 [==============================] - 2s 1ms/step - loss: 0.5755 - accuracy: 0.7377\n",
            "Epoch 64/150\n",
            "2081/2081 [==============================] - 2s 1ms/step - loss: 0.5770 - accuracy: 0.7363\n",
            "Epoch 65/150\n",
            "2081/2081 [==============================] - 3s 1ms/step - loss: 0.5802 - accuracy: 0.7332\n",
            "Epoch 66/150\n",
            "2081/2081 [==============================] - 3s 1ms/step - loss: 0.5755 - accuracy: 0.7377\n",
            "Epoch 67/150\n",
            "2081/2081 [==============================] - 3s 1ms/step - loss: 0.5731 - accuracy: 0.7400\n",
            "Epoch 68/150\n",
            "2081/2081 [==============================] - 3s 1ms/step - loss: 0.5726 - accuracy: 0.7405\n",
            "Epoch 69/150\n",
            "2081/2081 [==============================] - 3s 1ms/step - loss: 0.5756 - accuracy: 0.7376\n",
            "Epoch 70/150\n",
            "2081/2081 [==============================] - 2s 1ms/step - loss: 0.5720 - accuracy: 0.7411\n",
            "Epoch 71/150\n",
            "2081/2081 [==============================] - 2s 1ms/step - loss: 0.5799 - accuracy: 0.7334\n",
            "Epoch 72/150\n",
            "2081/2081 [==============================] - 2s 1ms/step - loss: 0.5762 - accuracy: 0.7370\n",
            "Epoch 73/150\n",
            "2081/2081 [==============================] - 2s 1ms/step - loss: 0.5786 - accuracy: 0.7348\n",
            "Epoch 74/150\n",
            "2081/2081 [==============================] - 2s 1ms/step - loss: 0.5757 - accuracy: 0.7376\n",
            "Epoch 75/150\n",
            "2081/2081 [==============================] - 2s 1ms/step - loss: 0.5777 - accuracy: 0.7356\n",
            "Epoch 76/150\n",
            "2081/2081 [==============================] - 2s 1ms/step - loss: 0.5765 - accuracy: 0.7367\n",
            "Epoch 77/150\n",
            "2081/2081 [==============================] - 3s 1ms/step - loss: 0.5779 - accuracy: 0.7353\n",
            "Epoch 78/150\n",
            "2081/2081 [==============================] - 3s 1ms/step - loss: 0.5781 - accuracy: 0.7353\n",
            "Epoch 79/150\n",
            "2081/2081 [==============================] - 2s 1ms/step - loss: 0.5730 - accuracy: 0.7401\n",
            "Epoch 80/150\n",
            "2081/2081 [==============================] - 2s 1ms/step - loss: 0.5784 - accuracy: 0.7349\n",
            "Epoch 81/150\n",
            "2081/2081 [==============================] - 2s 1ms/step - loss: 0.5747 - accuracy: 0.7384\n",
            "Epoch 82/150\n",
            "2081/2081 [==============================] - 2s 1ms/step - loss: 0.5747 - accuracy: 0.7384\n",
            "Epoch 83/150\n",
            "2081/2081 [==============================] - 2s 1ms/step - loss: 0.5747 - accuracy: 0.7385\n",
            "Epoch 84/150\n",
            "2081/2081 [==============================] - 2s 1ms/step - loss: 0.5755 - accuracy: 0.7376\n",
            "Epoch 85/150\n",
            "2081/2081 [==============================] - 2s 1ms/step - loss: 0.5777 - accuracy: 0.7356\n",
            "Epoch 86/150\n",
            "2081/2081 [==============================] - 3s 1ms/step - loss: 0.5716 - accuracy: 0.7414\n",
            "Epoch 87/150\n",
            "2081/2081 [==============================] - 3s 1ms/step - loss: 0.5799 - accuracy: 0.7334\n",
            "Epoch 88/150\n",
            "2081/2081 [==============================] - 3s 1ms/step - loss: 0.5753 - accuracy: 0.7379\n",
            "Epoch 89/150\n",
            "2081/2081 [==============================] - 2s 1ms/step - loss: 0.5697 - accuracy: 0.7433\n",
            "Epoch 90/150\n",
            "2081/2081 [==============================] - 2s 1ms/step - loss: 0.5754 - accuracy: 0.7378\n",
            "Epoch 91/150\n",
            "2081/2081 [==============================] - 3s 1ms/step - loss: 0.5782 - accuracy: 0.7351\n",
            "Epoch 92/150\n",
            "2081/2081 [==============================] - 3s 1ms/step - loss: 0.5691 - accuracy: 0.7438\n",
            "Epoch 93/150\n",
            "2081/2081 [==============================] - 3s 1ms/step - loss: 0.5782 - accuracy: 0.7351\n",
            "Epoch 94/150\n",
            "2081/2081 [==============================] - 3s 1ms/step - loss: 0.5723 - accuracy: 0.7408\n",
            "Epoch 95/150\n",
            "2081/2081 [==============================] - 3s 1ms/step - loss: 0.5779 - accuracy: 0.7354\n",
            "Epoch 96/150\n",
            "2081/2081 [==============================] - 3s 1ms/step - loss: 0.5737 - accuracy: 0.7395\n",
            "Epoch 97/150\n",
            "2081/2081 [==============================] - 3s 1ms/step - loss: 0.5760 - accuracy: 0.7372\n",
            "Epoch 98/150\n",
            "2081/2081 [==============================] - 3s 1ms/step - loss: 0.5704 - accuracy: 0.7426\n",
            "Epoch 99/150\n",
            "2081/2081 [==============================] - 3s 1ms/step - loss: 0.5748 - accuracy: 0.7383\n",
            "Epoch 100/150\n",
            "2081/2081 [==============================] - 3s 1ms/step - loss: 0.5724 - accuracy: 0.7408\n",
            "Epoch 101/150\n",
            "2081/2081 [==============================] - 2s 1ms/step - loss: 0.5726 - accuracy: 0.7405\n",
            "Epoch 102/150\n",
            "2081/2081 [==============================] - 2s 1ms/step - loss: 0.5767 - accuracy: 0.7365\n",
            "Epoch 103/150\n",
            "2081/2081 [==============================] - 3s 1ms/step - loss: 0.5715 - accuracy: 0.7415\n",
            "Epoch 104/150\n",
            "2081/2081 [==============================] - 2s 1ms/step - loss: 0.5776 - accuracy: 0.7357\n",
            "Epoch 105/150\n",
            "2081/2081 [==============================] - 2s 1ms/step - loss: 0.5667 - accuracy: 0.7460\n",
            "Epoch 106/150\n",
            "2081/2081 [==============================] - 2s 1ms/step - loss: 0.5747 - accuracy: 0.7385\n",
            "Epoch 107/150\n",
            "2081/2081 [==============================] - 3s 1ms/step - loss: 0.5708 - accuracy: 0.7422\n",
            "Epoch 108/150\n",
            "2081/2081 [==============================] - 2s 1ms/step - loss: 0.5780 - accuracy: 0.7352\n",
            "Epoch 109/150\n",
            "2081/2081 [==============================] - 3s 1ms/step - loss: 0.5779 - accuracy: 0.7355\n",
            "Epoch 110/150\n",
            "2081/2081 [==============================] - 3s 1ms/step - loss: 0.5817 - accuracy: 0.7318\n",
            "Epoch 111/150\n",
            "2081/2081 [==============================] - 3s 1ms/step - loss: 0.5729 - accuracy: 0.7402\n",
            "Epoch 112/150\n",
            "2081/2081 [==============================] - 3s 1ms/step - loss: 0.5772 - accuracy: 0.7361\n",
            "Epoch 113/150\n",
            "2081/2081 [==============================] - 3s 1ms/step - loss: 0.5737 - accuracy: 0.7395\n",
            "Epoch 114/150\n",
            "2081/2081 [==============================] - 3s 1ms/step - loss: 0.5774 - accuracy: 0.7359\n",
            "Epoch 115/150\n",
            "2081/2081 [==============================] - 3s 1ms/step - loss: 0.5778 - accuracy: 0.7355\n",
            "Epoch 116/150\n",
            "2081/2081 [==============================] - 2s 1ms/step - loss: 0.5809 - accuracy: 0.7325\n",
            "Epoch 117/150\n",
            "2081/2081 [==============================] - 2s 1ms/step - loss: 0.5792 - accuracy: 0.7341\n",
            "Epoch 118/150\n",
            "2081/2081 [==============================] - 3s 1ms/step - loss: 0.5738 - accuracy: 0.7393\n",
            "Epoch 119/150\n",
            "2081/2081 [==============================] - 2s 1ms/step - loss: 0.5793 - accuracy: 0.7341\n",
            "Epoch 120/150\n",
            "2081/2081 [==============================] - 2s 1ms/step - loss: 0.5739 - accuracy: 0.7392\n",
            "Epoch 121/150\n",
            "2081/2081 [==============================] - 3s 1ms/step - loss: 0.5768 - accuracy: 0.7365\n",
            "Epoch 122/150\n",
            "2081/2081 [==============================] - 3s 1ms/step - loss: 0.5729 - accuracy: 0.7402\n",
            "Epoch 123/150\n",
            "2081/2081 [==============================] - 3s 1ms/step - loss: 0.5724 - accuracy: 0.7407\n",
            "Epoch 124/150\n",
            "2081/2081 [==============================] - 3s 1ms/step - loss: 0.5749 - accuracy: 0.7383\n",
            "Epoch 125/150\n",
            "2081/2081 [==============================] - 3s 1ms/step - loss: 0.5750 - accuracy: 0.7382\n",
            "Epoch 126/150\n",
            "2081/2081 [==============================] - 3s 1ms/step - loss: 0.5681 - accuracy: 0.7447\n",
            "Epoch 127/150\n",
            "2081/2081 [==============================] - 3s 1ms/step - loss: 0.5750 - accuracy: 0.7381\n",
            "Epoch 128/150\n",
            "2081/2081 [==============================] - 2s 1ms/step - loss: 0.5702 - accuracy: 0.7428\n",
            "Epoch 129/150\n",
            "2081/2081 [==============================] - 3s 1ms/step - loss: 0.5783 - accuracy: 0.7350\n",
            "Epoch 130/150\n",
            "2081/2081 [==============================] - 3s 1ms/step - loss: 0.5738 - accuracy: 0.7394\n",
            "Epoch 131/150\n",
            "2081/2081 [==============================] - 3s 1ms/step - loss: 0.5747 - accuracy: 0.7385\n",
            "Epoch 132/150\n",
            "2081/2081 [==============================] - 3s 1ms/step - loss: 0.5705 - accuracy: 0.7425\n",
            "Epoch 133/150\n",
            "2081/2081 [==============================] - 3s 1ms/step - loss: 0.5757 - accuracy: 0.7375\n",
            "Epoch 134/150\n",
            "2081/2081 [==============================] - 3s 1ms/step - loss: 0.5798 - accuracy: 0.7335\n",
            "Epoch 135/150\n",
            "2081/2081 [==============================] - 3s 1ms/step - loss: 0.5760 - accuracy: 0.7373\n",
            "Epoch 136/150\n",
            "2081/2081 [==============================] - 3s 1ms/step - loss: 0.5783 - accuracy: 0.7349\n",
            "Epoch 137/150\n",
            "2081/2081 [==============================] - 3s 1ms/step - loss: 0.5732 - accuracy: 0.7399\n",
            "Epoch 138/150\n",
            "2081/2081 [==============================] - 3s 1ms/step - loss: 0.5750 - accuracy: 0.7382\n",
            "Epoch 139/150\n",
            "2081/2081 [==============================] - 3s 1ms/step - loss: 0.5749 - accuracy: 0.7383\n",
            "Epoch 140/150\n",
            "2081/2081 [==============================] - 3s 1ms/step - loss: 0.5744 - accuracy: 0.7388\n",
            "Epoch 141/150\n",
            "2081/2081 [==============================] - 3s 1ms/step - loss: 0.5745 - accuracy: 0.7387\n",
            "Epoch 142/150\n",
            "2081/2081 [==============================] - 3s 1ms/step - loss: 0.5666 - accuracy: 0.7462\n",
            "Epoch 143/150\n",
            "2081/2081 [==============================] - 3s 1ms/step - loss: 0.5755 - accuracy: 0.7377\n",
            "Epoch 144/150\n",
            "2081/2081 [==============================] - 3s 1ms/step - loss: 0.5770 - accuracy: 0.7363\n",
            "Epoch 145/150\n",
            "2081/2081 [==============================] - 2s 1ms/step - loss: 0.5720 - accuracy: 0.7410\n",
            "Epoch 146/150\n",
            "2081/2081 [==============================] - 2s 1ms/step - loss: 0.5684 - accuracy: 0.7445\n",
            "Epoch 147/150\n",
            "2081/2081 [==============================] - 3s 1ms/step - loss: 0.5735 - accuracy: 0.7397\n",
            "Epoch 148/150\n",
            "2081/2081 [==============================] - 3s 1ms/step - loss: 0.5787 - accuracy: 0.7347\n",
            "Epoch 149/150\n",
            "2081/2081 [==============================] - 3s 1ms/step - loss: 0.5743 - accuracy: 0.7388\n",
            "Epoch 150/150\n",
            "2081/2081 [==============================] - 3s 1ms/step - loss: 0.5749 - accuracy: 0.7383\n"
          ],
          "name": "stdout"
        }
      ]
    },
    {
      "cell_type": "code",
      "metadata": {
        "colab": {
          "base_uri": "https://localhost:8080/"
        },
        "id": "xqONa4HsKAxm",
        "outputId": "f905793c-3c1d-491c-e342-bbb38d595003"
      },
      "source": [
        "# evaluate the keras model\n",
        "_, accuracy = model.evaluate(X, y)\n",
        "print('Accuracy: %.2f' % (accuracy*100))\n"
      ],
      "execution_count": 73,
      "outputs": [
        {
          "output_type": "stream",
          "text": [
            "651/651 [==============================] - 1s 921us/step - loss: 0.5749 - accuracy: 0.7382\n",
            "Accuracy: 73.82\n"
          ],
          "name": "stdout"
        }
      ]
    },
    {
      "cell_type": "code",
      "metadata": {
        "id": "saz4DjeMR4us"
      },
      "source": [
        "model = Sequential()\n",
        "model.add(Dense(12, input_dim=4, activation='relu'))\n",
        "model.add(Dense(4, activation='relu'))\n",
        "model.add(Dense(1, activation='sigmoid'))"
      ],
      "execution_count": 74,
      "outputs": []
    },
    {
      "cell_type": "code",
      "metadata": {
        "id": "01QUqsYzR_Gd"
      },
      "source": [
        "# compile the keras model\n",
        "model.compile(loss='binary_crossentropy', optimizer='adam', metrics=['accuracy'])"
      ],
      "execution_count": 75,
      "outputs": []
    },
    {
      "cell_type": "code",
      "metadata": {
        "id": "fmd8-IxfKFRc"
      },
      "source": [
        "#neural2 = model.fit(X, y, validation_data=(X_test, y_test), epochs=150, batch_size=10)"
      ],
      "execution_count": null,
      "outputs": []
    },
    {
      "cell_type": "markdown",
      "metadata": {
        "id": "HB8rJr14erUf"
      },
      "source": [
        "##**Network Intrusion Dataset**\n",
        "check second notebook for a better analysis"
      ]
    },
    {
      "cell_type": "code",
      "metadata": {
        "colab": {
          "resources": {
            "http://localhost:8080/nbextensions/google.colab/files.js": {
              "data": "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",
              "ok": true,
              "headers": [
                [
                  "content-type",
                  "application/javascript"
                ]
              ],
              "status": 200,
              "status_text": ""
            }
          },
          "base_uri": "https://localhost:8080/",
          "height": 72
        },
        "id": "_old3IFldgxE",
        "outputId": "4c44fe82-7388-4e62-9d5e-d19d26453c2b"
      },
      "source": [
        "\n",
        "from google.colab import files\n",
        "uploaded = files.upload()"
      ],
      "execution_count": 76,
      "outputs": [
        {
          "output_type": "display_data",
          "data": {
            "text/html": [
              "\n",
              "     <input type=\"file\" id=\"files-562e11fb-73af-4de4-8694-263550e9e21e\" name=\"files[]\" multiple disabled\n",
              "        style=\"border:none\" />\n",
              "     <output id=\"result-562e11fb-73af-4de4-8694-263550e9e21e\">\n",
              "      Upload widget is only available when the cell has been executed in the\n",
              "      current browser session. Please rerun this cell to enable.\n",
              "      </output>\n",
              "      <script src=\"/nbextensions/google.colab/files.js\"></script> "
            ],
            "text/plain": [
              "<IPython.core.display.HTML object>"
            ]
          },
          "metadata": {
            "tags": []
          }
        },
        {
          "output_type": "stream",
          "text": [
            "Saving intrusion.csv to intrusion (1).csv\n"
          ],
          "name": "stdout"
        }
      ]
    },
    {
      "cell_type": "code",
      "metadata": {
        "id": "okXXyoCofocb"
      },
      "source": [
        "import io\n",
        "intrusion = pd.read_csv(io.BytesIO(uploaded['intrusion.csv']))\n",
        "#intrusion.head"
      ],
      "execution_count": 119,
      "outputs": []
    },
    {
      "cell_type": "code",
      "metadata": {
        "colab": {
          "base_uri": "https://localhost:8080/"
        },
        "id": "k5Ct3uuygGYI",
        "outputId": "e710f190-000a-49ad-d17f-63133613dbb9"
      },
      "source": [
        "intrusion.isnull().sum()"
      ],
      "execution_count": 120,
      "outputs": [
        {
          "output_type": "execute_result",
          "data": {
            "text/plain": [
              "Unnamed: 0                     0\n",
              "duration                       0\n",
              "src_bytes                      0\n",
              "dst_bytes                      0\n",
              "land                           0\n",
              "wrong_fragment                 0\n",
              "urgent                         0\n",
              "hot                            0\n",
              "num_failed_logins              0\n",
              "logged_in                      0\n",
              "num_compromised                0\n",
              "root_shell                     0\n",
              "su_attempted                   0\n",
              "num_root                       0\n",
              "num_file_creations             0\n",
              "num_shells                     0\n",
              "num_access_files               0\n",
              "num_outbound_cmds              0\n",
              "is_host_login                  0\n",
              "is_guest_login                 0\n",
              "count                          0\n",
              "srv_count                      0\n",
              "serror_rate                    0\n",
              "srv_serror_rate                0\n",
              "rerror_rate                    0\n",
              "srv_rerror_rate                0\n",
              "same_srv_rate                  0\n",
              "diff_srv_rate                  0\n",
              "srv_diff_host_rate             0\n",
              "dst_host_count                 0\n",
              "dst_host_srv_count             0\n",
              "dst_host_same_srv_rate         0\n",
              "dst_host_diff_srv_rate         0\n",
              "dst_host_same_src_port_rate    0\n",
              "dst_host_srv_diff_host_rate    0\n",
              "dst_host_serror_rate           0\n",
              "dst_host_srv_serror_rate       0\n",
              "dst_host_rerror_rate           0\n",
              "dst_host_srv_rerror_rate       0\n",
              "check                          0\n",
              "dtype: int64"
            ]
          },
          "metadata": {
            "tags": []
          },
          "execution_count": 120
        }
      ]
    },
    {
      "cell_type": "code",
      "metadata": {
        "id": "l4-twDdDgrL8"
      },
      "source": [
        "y = intrusion.check\n",
        "X = intrusion.drop(['check','num_outbound_cmds','num_access_files','is_host_login','is_guest_login','num_root','land','root_shell','num_file_creations','num_shells','urgent','su_attempted'], axis = 1)\n"
      ],
      "execution_count": 207,
      "outputs": []
    },
    {
      "cell_type": "code",
      "metadata": {
        "id": "on6c6fzBhSyb"
      },
      "source": [
        "X_train, X_test, y_train, y_test = train_test_split(X,y, test_size = 0.3)"
      ],
      "execution_count": 103,
      "outputs": []
    },
    {
      "cell_type": "code",
      "metadata": {
        "id": "TD99t501i-we"
      },
      "source": [
        "from sklearn.pipeline import make_pipeline\n",
        "from sklearn.preprocessing import StandardScaler\n",
        "pipe = make_pipeline(StandardScaler(), LogisticRegression())"
      ],
      "execution_count": 104,
      "outputs": []
    },
    {
      "cell_type": "code",
      "metadata": {
        "colab": {
          "base_uri": "https://localhost:8080/"
        },
        "id": "O1Tdl35gjIbt",
        "outputId": "2fbf7c87-3df3-4a9b-8bc3-cd2b473721b3"
      },
      "source": [
        "pipe.fit(X_train, y_train)"
      ],
      "execution_count": 105,
      "outputs": [
        {
          "output_type": "stream",
          "text": [
            "/usr/local/lib/python3.7/dist-packages/sklearn/linear_model/_logistic.py:940: ConvergenceWarning: lbfgs failed to converge (status=1):\n",
            "STOP: TOTAL NO. of ITERATIONS REACHED LIMIT.\n",
            "\n",
            "Increase the number of iterations (max_iter) or scale the data as shown in:\n",
            "    https://scikit-learn.org/stable/modules/preprocessing.html\n",
            "Please also refer to the documentation for alternative solver options:\n",
            "    https://scikit-learn.org/stable/modules/linear_model.html#logistic-regression\n",
            "  extra_warning_msg=_LOGISTIC_SOLVER_CONVERGENCE_MSG)\n"
          ],
          "name": "stderr"
        },
        {
          "output_type": "execute_result",
          "data": {
            "text/plain": [
              "Pipeline(memory=None,\n",
              "         steps=[('standardscaler',\n",
              "                 StandardScaler(copy=True, with_mean=True, with_std=True)),\n",
              "                ('logisticregression',\n",
              "                 LogisticRegression(C=1.0, class_weight=None, dual=False,\n",
              "                                    fit_intercept=True, intercept_scaling=1,\n",
              "                                    l1_ratio=None, max_iter=100,\n",
              "                                    multi_class='auto', n_jobs=None,\n",
              "                                    penalty='l2', random_state=None,\n",
              "                                    solver='lbfgs', tol=0.0001, verbose=0,\n",
              "                                    warm_start=False))],\n",
              "         verbose=False)"
            ]
          },
          "metadata": {
            "tags": []
          },
          "execution_count": 105
        }
      ]
    },
    {
      "cell_type": "code",
      "metadata": {
        "colab": {
          "base_uri": "https://localhost:8080/"
        },
        "id": "mVzuQ7nzieUZ",
        "outputId": "2e353814-d6cb-4896-9afb-bac052a1fcf6"
      },
      "source": [
        "pipe.score(X_test, y_test)"
      ],
      "execution_count": 106,
      "outputs": [
        {
          "output_type": "execute_result",
          "data": {
            "text/plain": [
              "0.948663667636941"
            ]
          },
          "metadata": {
            "tags": []
          },
          "execution_count": 106
        }
      ]
    },
    {
      "cell_type": "markdown",
      "metadata": {
        "id": "K0dk_xO6sID3"
      },
      "source": [
        "**Logi**"
      ]
    },
    {
      "cell_type": "code",
      "metadata": {
        "id": "9uEeER_0lGab"
      },
      "source": [
        "intrusion_logmodel = LogisticRegression()"
      ],
      "execution_count": 107,
      "outputs": []
    },
    {
      "cell_type": "code",
      "metadata": {
        "colab": {
          "base_uri": "https://localhost:8080/"
        },
        "id": "FBCTpbZnimc7",
        "outputId": "d1374bcb-416e-4b06-d10f-bb4f5cae79e4"
      },
      "source": [
        "intrusion_logmodel.fit(X_train,y_train)"
      ],
      "execution_count": 108,
      "outputs": [
        {
          "output_type": "stream",
          "text": [
            "/usr/local/lib/python3.7/dist-packages/sklearn/linear_model/_logistic.py:940: ConvergenceWarning: lbfgs failed to converge (status=1):\n",
            "STOP: TOTAL NO. of ITERATIONS REACHED LIMIT.\n",
            "\n",
            "Increase the number of iterations (max_iter) or scale the data as shown in:\n",
            "    https://scikit-learn.org/stable/modules/preprocessing.html\n",
            "Please also refer to the documentation for alternative solver options:\n",
            "    https://scikit-learn.org/stable/modules/linear_model.html#logistic-regression\n",
            "  extra_warning_msg=_LOGISTIC_SOLVER_CONVERGENCE_MSG)\n"
          ],
          "name": "stderr"
        },
        {
          "output_type": "execute_result",
          "data": {
            "text/plain": [
              "LogisticRegression(C=1.0, class_weight=None, dual=False, fit_intercept=True,\n",
              "                   intercept_scaling=1, l1_ratio=None, max_iter=100,\n",
              "                   multi_class='auto', n_jobs=None, penalty='l2',\n",
              "                   random_state=None, solver='lbfgs', tol=0.0001, verbose=0,\n",
              "                   warm_start=False)"
            ]
          },
          "metadata": {
            "tags": []
          },
          "execution_count": 108
        }
      ]
    },
    {
      "cell_type": "code",
      "metadata": {
        "id": "1ZWiLuTAiyIr"
      },
      "source": [
        "predictions = intrusion_logmodel.predict(X_test)"
      ],
      "execution_count": 109,
      "outputs": []
    },
    {
      "cell_type": "code",
      "metadata": {
        "colab": {
          "base_uri": "https://localhost:8080/",
          "height": 69
        },
        "id": "lj8dFWLljmd3",
        "outputId": "59a6f695-b97a-4807-e0fa-31da3584fb9f"
      },
      "source": [
        "classification_report(y_test,predictions)"
      ],
      "execution_count": 110,
      "outputs": [
        {
          "output_type": "execute_result",
          "data": {
            "application/vnd.google.colaboratory.intrinsic+json": {
              "type": "string"
            },
            "text/plain": [
              "'              precision    recall  f1-score   support\\n\\n           0       0.90      0.87      0.88      4062\\n           1       0.85      0.88      0.87      3496\\n\\n    accuracy                           0.87      7558\\n   macro avg       0.87      0.88      0.87      7558\\nweighted avg       0.88      0.87      0.88      7558\\n'"
            ]
          },
          "metadata": {
            "tags": []
          },
          "execution_count": 110
        }
      ]
    },
    {
      "cell_type": "code",
      "metadata": {
        "colab": {
          "base_uri": "https://localhost:8080/"
        },
        "id": "66m7ydarjrBi",
        "outputId": "7c334636-7388-4f35-b030-c9159c6cbad7"
      },
      "source": [
        "confusion_matrix(y_test,predictions)\n",
        "#array([[an pn,  an py],\n",
        "#      [ ay pn,  ay py]])\n"
      ],
      "execution_count": 111,
      "outputs": [
        {
          "output_type": "execute_result",
          "data": {
            "text/plain": [
              "array([[3528,  534],\n",
              "       [ 411, 3085]])"
            ]
          },
          "metadata": {
            "tags": []
          },
          "execution_count": 111
        }
      ]
    },
    {
      "cell_type": "code",
      "metadata": {
        "colab": {
          "base_uri": "https://localhost:8080/"
        },
        "id": "3n4kfgCUj1Ey",
        "outputId": "d0dbea6b-a793-4d4b-a137-59f6640746f0"
      },
      "source": [
        "intrusion_logmodel.score(X_test,y_test)"
      ],
      "execution_count": 112,
      "outputs": [
        {
          "output_type": "execute_result",
          "data": {
            "text/plain": [
              "0.874966922466261"
            ]
          },
          "metadata": {
            "tags": []
          },
          "execution_count": 112
        }
      ]
    },
    {
      "cell_type": "code",
      "metadata": {
        "id": "YglgGixAleBf"
      },
      "source": [
        "#plt.scatter(X_test, y_test)\n",
        "#plt.scatter(X_test, predictions, c=\"red\")\n",
        "#plt.show()"
      ],
      "execution_count": 113,
      "outputs": []
    },
    {
      "cell_type": "markdown",
      "metadata": {
        "id": "B9IfacYxsBj9"
      },
      "source": [
        "**Bayes**"
      ]
    },
    {
      "cell_type": "code",
      "metadata": {
        "id": "dZkoeMGWVVC4"
      },
      "source": [
        "X = intrusion.drop(['check','num_outbound_cmds','num_access_files','is_host_login','is_guest_login','num_root','land','root_shell','num_file_creations','num_shells','urgent','su_attempted'], axis = 1)"
      ],
      "execution_count": 136,
      "outputs": []
    },
    {
      "cell_type": "code",
      "metadata": {
        "id": "RiNrnUssVctS"
      },
      "source": [
        "X_train, X_test, y_train, y_test = train_test_split(X,y, test_size = 0.3)"
      ],
      "execution_count": 137,
      "outputs": []
    },
    {
      "cell_type": "code",
      "metadata": {
        "id": "VHoL6ABlV_-7"
      },
      "source": [
        "from sklearn.naive_bayes import GaussianNB"
      ],
      "execution_count": 204,
      "outputs": []
    },
    {
      "cell_type": "code",
      "metadata": {
        "colab": {
          "base_uri": "https://localhost:8080/"
        },
        "id": "VDr3vQnCpIsH",
        "outputId": "8da6b42f-3860-472a-8187-41d7002a723e"
      },
      "source": [
        "int_gmodel = GaussianNB()\n",
        "int_gmodel.fit(X_train, y_train)"
      ],
      "execution_count": 142,
      "outputs": [
        {
          "output_type": "execute_result",
          "data": {
            "text/plain": [
              "GaussianNB(priors=None, var_smoothing=1e-09)"
            ]
          },
          "metadata": {
            "tags": []
          },
          "execution_count": 142
        }
      ]
    },
    {
      "cell_type": "code",
      "metadata": {
        "colab": {
          "base_uri": "https://localhost:8080/"
        },
        "id": "re8WWg4cpaGf",
        "outputId": "7d3a86ec-cf41-4407-953c-4fc5f2f4ec6a"
      },
      "source": [
        "int_gmodel.score(X_test, y_test)"
      ],
      "execution_count": 143,
      "outputs": [
        {
          "output_type": "execute_result",
          "data": {
            "text/plain": [
              "0.5558348769515745"
            ]
          },
          "metadata": {
            "tags": []
          },
          "execution_count": 143
        }
      ]
    },
    {
      "cell_type": "markdown",
      "metadata": {
        "id": "v6zW4aSKXF1P"
      },
      "source": [
        "**Random Forest**"
      ]
    },
    {
      "cell_type": "code",
      "metadata": {
        "id": "3e0AUKN2JR2Y"
      },
      "source": [
        "from sklearn.ensemble import RandomForestClassifier"
      ],
      "execution_count": 191,
      "outputs": []
    },
    {
      "cell_type": "code",
      "metadata": {
        "id": "GhpYZMD-JTrY"
      },
      "source": [
        "feature_names = [f'feature {i}' for i in range(X.shape[1])]\n",
        "#forest = RandomForestClassifier(random_state=0)\n",
        "#forest.fit(X_train, y_train)\n"
      ],
      "execution_count": 203,
      "outputs": []
    },
    {
      "cell_type": "code",
      "metadata": {
        "id": "OLy-wZA1SdAn"
      },
      "source": [
        "#forest_importances"
      ],
      "execution_count": 192,
      "outputs": []
    },
    {
      "cell_type": "code",
      "metadata": {
        "id": "X89OH-3ZRXyU"
      },
      "source": [
        "from sklearn.linear_model import LogisticRegression\n",
        "from sklearn.model_selection import train_test_split\n",
        "from sklearn.metrics import confusion_matrix\n",
        "from matplotlib import pyplot as plt\n",
        "%matplotlib inline\n",
        "import numpy as np\n",
        "from scipy.stats import pearsonr\n",
        "import seaborn as sns \n",
        "from numpy import percentile\n",
        "import math\n",
        "y = intrusion.check\n",
        "X = intrusion.drop(['check','num_outbound_cmds','num_access_files','is_host_login','is_guest_login'], axis = 1)"
      ],
      "execution_count": 183,
      "outputs": []
    },
    {
      "cell_type": "code",
      "metadata": {
        "id": "8bDfGdzxSKa1"
      },
      "source": [
        "import io\n",
        "import pandas as pd"
      ],
      "execution_count": 202,
      "outputs": []
    },
    {
      "cell_type": "code",
      "metadata": {
        "id": "1DtNukFJRmvT"
      },
      "source": [
        "from sklearn.ensemble import RandomForestClassifier"
      ],
      "execution_count": 200,
      "outputs": []
    },
    {
      "cell_type": "code",
      "metadata": {
        "colab": {
          "base_uri": "https://localhost:8080/"
        },
        "id": "h6Ig1g6XRp3w",
        "outputId": "731c9512-79b5-4872-824b-ac46c942cf0e"
      },
      "source": [
        "feature_names = [f'feature {i}' for i in range(X.shape[1])]\n",
        "forest = RandomForestClassifier(random_state=0)\n",
        "forest.fit(X_train, y_train)"
      ],
      "execution_count": 198,
      "outputs": [
        {
          "output_type": "execute_result",
          "data": {
            "text/plain": [
              "RandomForestClassifier(bootstrap=True, ccp_alpha=0.0, class_weight=None,\n",
              "                       criterion='gini', max_depth=None, max_features='auto',\n",
              "                       max_leaf_nodes=None, max_samples=None,\n",
              "                       min_impurity_decrease=0.0, min_impurity_split=None,\n",
              "                       min_samples_leaf=1, min_samples_split=2,\n",
              "                       min_weight_fraction_leaf=0.0, n_estimators=100,\n",
              "                       n_jobs=None, oob_score=False, random_state=0, verbose=0,\n",
              "                       warm_start=False)"
            ]
          },
          "metadata": {
            "tags": []
          },
          "execution_count": 198
        }
      ]
    },
    {
      "cell_type": "code",
      "metadata": {
        "colab": {
          "base_uri": "https://localhost:8080/"
        },
        "id": "uFPyVND-Rv9F",
        "outputId": "c916687f-9622-4796-9122-1348cd46da6f"
      },
      "source": [
        "forest.score(X_test, y_test)"
      ],
      "execution_count": 186,
      "outputs": [
        {
          "output_type": "execute_result",
          "data": {
            "text/plain": [
              "0.9698766223361641"
            ]
          },
          "metadata": {
            "tags": []
          },
          "execution_count": 186
        }
      ]
    },
    {
      "cell_type": "code",
      "metadata": {
        "colab": {
          "base_uri": "https://localhost:8080/",
          "height": 164
        },
        "id": "TKF1UalBRzm-",
        "outputId": "ee2d00ef-5b4f-4fa6-e2a0-43304e450687"
      },
      "source": [
        "forest_importances"
      ],
      "execution_count": 199,
      "outputs": [
        {
          "output_type": "error",
          "ename": "NameError",
          "evalue": "ignored",
          "traceback": [
            "\u001b[0;31m---------------------------------------------------------------------------\u001b[0m",
            "\u001b[0;31mNameError\u001b[0m                                 Traceback (most recent call last)",
            "\u001b[0;32m<ipython-input-199-484e69d9f648>\u001b[0m in \u001b[0;36m<module>\u001b[0;34m()\u001b[0m\n\u001b[0;32m----> 1\u001b[0;31m \u001b[0mforest_importances\u001b[0m\u001b[0;34m\u001b[0m\u001b[0;34m\u001b[0m\u001b[0m\n\u001b[0m",
            "\u001b[0;31mNameError\u001b[0m: name 'forest_importances' is not defined"
          ]
        }
      ]
    },
    {
      "cell_type": "code",
      "metadata": {
        "colab": {
          "base_uri": "https://localhost:8080/"
        },
        "id": "lYLTanwDVuJf",
        "outputId": "3809d746-35de-4b07-fbc4-18da730bfe51"
      },
      "source": [
        "import time\n",
        "import numpy as np\n",
        "\n",
        "start_time = time.time()\n",
        "importances = forest.feature_importances_\n",
        "std = np.std([\n",
        "    tree.feature_importances_ for tree in forest.estimators_], axis=0)\n",
        "elapsed_time = time.time() - start_time\n",
        "\n",
        "print(f\"Elapsed time to compute the importances: \"\n",
        "      f\"{elapsed_time:.3f} seconds\")"
      ],
      "execution_count": 193,
      "outputs": [
        {
          "output_type": "stream",
          "text": [
            "Elapsed time to compute the importances: 0.011 seconds\n"
          ],
          "name": "stdout"
        }
      ]
    },
    {
      "cell_type": "code",
      "metadata": {
        "colab": {
          "base_uri": "https://localhost:8080/",
          "height": 232
        },
        "id": "VDJMYRbsVxSZ",
        "outputId": "f2bfab1c-a431-4954-bc71-af16b2f573c8"
      },
      "source": [
        "score = np.round(forest_importances,3)\n",
        "importances = pd.DataFrame({'feature':X_train.columns,'importance':score})\n",
        "importances = importances.sort_values('importance',ascending=False).set_index('feature')\n",
        "plt.rcParams['figure.figsize'] = (11, 4)\n",
        "importances.plot.bar();"
      ],
      "execution_count": 194,
      "outputs": [
        {
          "output_type": "error",
          "ename": "NameError",
          "evalue": "ignored",
          "traceback": [
            "\u001b[0;31m---------------------------------------------------------------------------\u001b[0m",
            "\u001b[0;31mNameError\u001b[0m                                 Traceback (most recent call last)",
            "\u001b[0;32m<ipython-input-194-3bde1a8e6ad8>\u001b[0m in \u001b[0;36m<module>\u001b[0;34m()\u001b[0m\n\u001b[0;32m----> 1\u001b[0;31m \u001b[0mscore\u001b[0m \u001b[0;34m=\u001b[0m \u001b[0mnp\u001b[0m\u001b[0;34m.\u001b[0m\u001b[0mround\u001b[0m\u001b[0;34m(\u001b[0m\u001b[0mforest_importances\u001b[0m\u001b[0;34m,\u001b[0m\u001b[0;36m3\u001b[0m\u001b[0;34m)\u001b[0m\u001b[0;34m\u001b[0m\u001b[0;34m\u001b[0m\u001b[0m\n\u001b[0m\u001b[1;32m      2\u001b[0m \u001b[0mimportances\u001b[0m \u001b[0;34m=\u001b[0m \u001b[0mpd\u001b[0m\u001b[0;34m.\u001b[0m\u001b[0mDataFrame\u001b[0m\u001b[0;34m(\u001b[0m\u001b[0;34m{\u001b[0m\u001b[0;34m'feature'\u001b[0m\u001b[0;34m:\u001b[0m\u001b[0mX_train\u001b[0m\u001b[0;34m.\u001b[0m\u001b[0mcolumns\u001b[0m\u001b[0;34m,\u001b[0m\u001b[0;34m'importance'\u001b[0m\u001b[0;34m:\u001b[0m\u001b[0mscore\u001b[0m\u001b[0;34m}\u001b[0m\u001b[0;34m)\u001b[0m\u001b[0;34m\u001b[0m\u001b[0;34m\u001b[0m\u001b[0m\n\u001b[1;32m      3\u001b[0m \u001b[0mimportances\u001b[0m \u001b[0;34m=\u001b[0m \u001b[0mimportances\u001b[0m\u001b[0;34m.\u001b[0m\u001b[0msort_values\u001b[0m\u001b[0;34m(\u001b[0m\u001b[0;34m'importance'\u001b[0m\u001b[0;34m,\u001b[0m\u001b[0mascending\u001b[0m\u001b[0;34m=\u001b[0m\u001b[0;32mFalse\u001b[0m\u001b[0;34m)\u001b[0m\u001b[0;34m.\u001b[0m\u001b[0mset_index\u001b[0m\u001b[0;34m(\u001b[0m\u001b[0;34m'feature'\u001b[0m\u001b[0;34m)\u001b[0m\u001b[0;34m\u001b[0m\u001b[0;34m\u001b[0m\u001b[0m\n\u001b[1;32m      4\u001b[0m \u001b[0mplt\u001b[0m\u001b[0;34m.\u001b[0m\u001b[0mrcParams\u001b[0m\u001b[0;34m[\u001b[0m\u001b[0;34m'figure.figsize'\u001b[0m\u001b[0;34m]\u001b[0m \u001b[0;34m=\u001b[0m \u001b[0;34m(\u001b[0m\u001b[0;36m11\u001b[0m\u001b[0;34m,\u001b[0m \u001b[0;36m4\u001b[0m\u001b[0;34m)\u001b[0m\u001b[0;34m\u001b[0m\u001b[0;34m\u001b[0m\u001b[0m\n\u001b[1;32m      5\u001b[0m \u001b[0mimportances\u001b[0m\u001b[0;34m.\u001b[0m\u001b[0mplot\u001b[0m\u001b[0;34m.\u001b[0m\u001b[0mbar\u001b[0m\u001b[0;34m(\u001b[0m\u001b[0;34m)\u001b[0m\u001b[0;34m;\u001b[0m\u001b[0;34m\u001b[0m\u001b[0;34m\u001b[0m\u001b[0m\n",
            "\u001b[0;31mNameError\u001b[0m: name 'forest_importances' is not defined"
          ]
        }
      ]
    }
  ]
}